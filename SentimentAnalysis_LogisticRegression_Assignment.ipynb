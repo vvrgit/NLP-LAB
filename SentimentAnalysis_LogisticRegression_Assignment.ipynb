{
  "cells": [
    {
      "cell_type": "markdown",
      "metadata": {
        "id": "view-in-github",
        "colab_type": "text"
      },
      "source": [
        "<a href=\"https://colab.research.google.com/github/vvrgit/NLP-LAB/blob/main/SentimentAnalysis_LogisticRegression_Assignment.ipynb\" target=\"_parent\"><img src=\"https://colab.research.google.com/assets/colab-badge.svg\" alt=\"Open In Colab\"/></a>"
      ]
    },
    {
      "cell_type": "markdown",
      "metadata": {
        "id": "jfvbhC1K3Bjs"
      },
      "source": [
        "# Assignment 1: Logistic Regression\n",
        "Welcome to week one of this specialization. You will learn about logistic regression. Concretely, you will be implementing logistic regression for sentiment analysis on tweets. Given a tweet, you will decide if it has a positive sentiment or a negative one. Specifically you will: \n",
        "\n",
        "* Learn how to extract features for logistic regression given some text\n",
        "* Implement logistic regression from scratch\n",
        "* Apply logistic regression on a natural language processing task\n",
        "* Test using your logistic regression\n",
        "* Perform error analysis\n",
        "\n",
        "## Important Note on Submission to the AutoGrader\n",
        "\n",
        "Before submitting your assignment to the AutoGrader, please make sure you are not doing the following:\n",
        "\n",
        "1. You have not added any _extra_ `print` statement(s) in the assignment.\n",
        "2. You have not added any _extra_ code cell(s) in the assignment.\n",
        "3. You have not changed any of the function parameters.\n",
        "4. You are not using any global variables inside your graded exercises. Unless specifically instructed to do so, please refrain from it and use the local variables instead.\n",
        "5. You are not changing the assignment code where it is not required, like creating _extra_ variables.\n",
        "\n",
        "If you do any of the following, you will get something like, `Grader not found` (or similarly unexpected) error upon submitting your assignment. Before asking for help/debugging the errors in your assignment, check for these first. If this is the case, and you don't remember the changes you have made, you can get a fresh copy of the assignment by following these [instructions](https://www.coursera.org/learn/classification-vector-spaces-in-nlp/supplement/YLuAg/h-ow-to-refresh-your-workspace).\n",
        "\n",
        "Lets get started!\n",
        "\n",
        "We will be using a data set of tweets. Hopefully you will get more than 99% accuracy.  \n",
        "Run the cell below to load in the packages."
      ],
      "id": "jfvbhC1K3Bjs"
    },
    {
      "cell_type": "markdown",
      "metadata": {
        "id": "LLf9moqH3Bju"
      },
      "source": [
        "## Import functions and data"
      ],
      "id": "LLf9moqH3Bju"
    },
    {
      "cell_type": "code",
      "execution_count": 20,
      "metadata": {
        "colab": {
          "base_uri": "https://localhost:8080/"
        },
        "id": "JY-pZ3GQ3Bjv",
        "outputId": "305d40cb-d0cf-4687-e946-eecbfedede74"
      },
      "outputs": [
        {
          "output_type": "stream",
          "name": "stderr",
          "text": [
            "[nltk_data] Downloading package twitter_samples to /root/nltk_data...\n",
            "[nltk_data]   Package twitter_samples is already up-to-date!\n",
            "[nltk_data] Downloading package stopwords to /root/nltk_data...\n",
            "[nltk_data]   Package stopwords is already up-to-date!\n"
          ]
        },
        {
          "output_type": "execute_result",
          "data": {
            "text/plain": [
              "True"
            ]
          },
          "metadata": {},
          "execution_count": 20
        }
      ],
      "source": [
        "# run this cell to import nltk\n",
        "import nltk\n",
        "from os import getcwd\n",
        "import w1_unittest\n",
        "from nltk.stem import PorterStemmer \n",
        "from nltk.corpus import stopwords\n",
        "import re                                  # library for regular expression operations\n",
        "import string                              # for string operations\n",
        "from nltk.tokenize import TweetTokenizer\n",
        "nltk.download('twitter_samples')\n",
        "nltk.download('stopwords')"
      ],
      "id": "JY-pZ3GQ3Bjv"
    },
    {
      "cell_type": "markdown",
      "metadata": {
        "id": "PILzmfJB3Bjw"
      },
      "source": [
        "### Imported functions\n",
        "\n",
        "Download the data needed for this assignment. Check out the [documentation for the twitter_samples dataset](http://www.nltk.org/howto/twitter.html).\n",
        "\n",
        "* twitter_samples: if you're running this notebook on your local computer, you will need to download it using:\n",
        "```Python\n",
        "nltk.download('twitter_samples')\n",
        "```\n",
        "\n",
        "* stopwords: if you're running this notebook on your local computer, you will need to download it using:\n",
        "```python\n",
        "nltk.download('stopwords')\n",
        "```\n",
        "\n",
        "#### Import some helper functions that we provided in the utils.py file:\n",
        "* process_tweet: cleans the text, tokenizes it into separate words, removes stopwords, and converts words to stems.\n",
        "* build_freqs: this counts how often a word in the 'corpus' (the entire set of tweets) was associated with a positive label '1' or a negative label '0', then builds the 'freqs' dictionary, where each key is the (word,label) tuple, and the value is the count of its frequency within the corpus of tweets."
      ],
      "id": "PILzmfJB3Bjw"
    },
    {
      "cell_type": "code",
      "execution_count": 3,
      "metadata": {
        "id": "uU-txf4z3Bjx"
      },
      "outputs": [],
      "source": [
        "filePath = f\"{getcwd()}/../tmp2/\"\n",
        "nltk.data.path.append(filePath)"
      ],
      "id": "uU-txf4z3Bjx"
    },
    {
      "cell_type": "code",
      "execution_count": 5,
      "metadata": {
        "id": "NXdlfnD83Bjx"
      },
      "outputs": [],
      "source": [
        "import numpy as np\n",
        "import pandas as pd\n",
        "from nltk.corpus import twitter_samples "
      ],
      "id": "NXdlfnD83Bjx"
    },
    {
      "cell_type": "markdown",
      "metadata": {
        "id": "CPTGvdfb3Bjy"
      },
      "source": [
        "### Prepare the data\n",
        "* The `twitter_samples` contains subsets of five thousand positive_tweets, five thousand negative_tweets, and the full set of 10,000 tweets.  \n",
        "    * If you used all three datasets, we would introduce duplicates of the positive tweets and negative tweets.  \n",
        "    * You will select just the five thousand positive tweets and five thousand negative tweets."
      ],
      "id": "CPTGvdfb3Bjy"
    },
    {
      "cell_type": "code",
      "execution_count": 6,
      "metadata": {
        "id": "iVHgB74g3Bjy"
      },
      "outputs": [],
      "source": [
        "# select the set of positive and negative tweets\n",
        "all_positive_tweets = twitter_samples.strings('positive_tweets.json')\n",
        "all_negative_tweets = twitter_samples.strings('negative_tweets.json')"
      ],
      "id": "iVHgB74g3Bjy"
    },
    {
      "cell_type": "markdown",
      "metadata": {
        "id": "yzc4FgtY3Bjy"
      },
      "source": [
        "* Train test split: 20% will be in the test set, and 80% in the training set.\n"
      ],
      "id": "yzc4FgtY3Bjy"
    },
    {
      "cell_type": "code",
      "execution_count": 7,
      "metadata": {
        "id": "eUoVvLp93Bjz"
      },
      "outputs": [],
      "source": [
        "# split the data into two pieces, one for training and one for testing (validation set) \n",
        "test_pos = all_positive_tweets[4000:]\n",
        "train_pos = all_positive_tweets[:4000]\n",
        "test_neg = all_negative_tweets[4000:]\n",
        "train_neg = all_negative_tweets[:4000]\n",
        "\n",
        "train_x = train_pos + train_neg \n",
        "test_x = test_pos + test_neg"
      ],
      "id": "eUoVvLp93Bjz"
    },
    {
      "cell_type": "markdown",
      "metadata": {
        "id": "ehniAQxK3Bjz"
      },
      "source": [
        "* Create the numpy array of positive labels and negative labels."
      ],
      "id": "ehniAQxK3Bjz"
    },
    {
      "cell_type": "code",
      "execution_count": 8,
      "metadata": {
        "id": "MoB-MrAp3Bj0"
      },
      "outputs": [],
      "source": [
        "# combine positive and negative labels\n",
        "train_y = np.append(np.ones((len(train_pos), 1)), np.zeros((len(train_neg), 1)), axis=0)\n",
        "test_y = np.append(np.ones((len(test_pos), 1)), np.zeros((len(test_neg), 1)), axis=0)"
      ],
      "id": "MoB-MrAp3Bj0"
    },
    {
      "cell_type": "code",
      "execution_count": 9,
      "metadata": {
        "colab": {
          "base_uri": "https://localhost:8080/"
        },
        "id": "dnmCEnAM3Bj0",
        "outputId": "336596da-9cbb-4809-9189-8c7ad11ab4bd"
      },
      "outputs": [
        {
          "output_type": "stream",
          "name": "stdout",
          "text": [
            "train_y.shape = (8000, 1)\n",
            "test_y.shape = (2000, 1)\n"
          ]
        }
      ],
      "source": [
        "# Print the shape train and test sets\n",
        "print(\"train_y.shape = \" + str(train_y.shape))\n",
        "print(\"test_y.shape = \" + str(test_y.shape))"
      ],
      "id": "dnmCEnAM3Bj0"
    },
    {
      "cell_type": "markdown",
      "metadata": {
        "id": "ylS6FpMh3Bj0"
      },
      "source": [
        "* Create the frequency dictionary using the imported build_freqs function.  \n",
        "    * We highly recommend that you open utils.py and read the build_freqs function to understand what it is doing.\n",
        "    * To view the file directory, go to the menu and click File->Open.\n",
        "\n",
        "```Python\n",
        "    for y,tweet in zip(ys, tweets):\n",
        "        for word in process_tweet(tweet):\n",
        "            pair = (word, y)\n",
        "            if pair in freqs:\n",
        "                freqs[pair] += 1\n",
        "            else:\n",
        "                freqs[pair] = 1\n",
        "```\n",
        "* Notice how the outer for loop goes through each tweet, and the inner for loop steps through each word in a tweet.\n",
        "* The 'freqs' dictionary is the frequency dictionary that's being built. \n",
        "* The key is the tuple (word, label), such as (\"happy\",1) or (\"happy\",0).  The value stored for each key is the count of how many times the word \"happy\" was associated with a positive label, or how many times \"happy\" was associated with a negative label."
      ],
      "id": "ylS6FpMh3Bj0"
    },
    {
      "cell_type": "code",
      "execution_count": 10,
      "metadata": {
        "id": "KN53oxe03Bj1"
      },
      "outputs": [],
      "source": [
        "def build_freqs(tweets, ys):\n",
        "    \"\"\"Build frequencies.\n",
        "    Input:\n",
        "        tweets: a list of tweets\n",
        "        ys: an m x 1 array with the sentiment label of each tweet\n",
        "            (either 0 or 1)\n",
        "    Output:\n",
        "        freqs: a dictionary mapping each (word, sentiment) pair to its\n",
        "        frequency\n",
        "    \"\"\"\n",
        "    # Convert np array to list since zip needs an iterable.\n",
        "    # The squeeze is necessary or the list ends up with one element.\n",
        "    # Also note that this is just a NOP if ys is already a list.\n",
        "    yslist = np.squeeze(ys).tolist()\n",
        "\n",
        "    # Start with an empty dictionary and populate it by looping over all tweets\n",
        "    # and over all processed words in each tweet.\n",
        "    freqs = {}\n",
        "    for y, tweet in zip(yslist, tweets):\n",
        "        for word in process_tweet(tweet):\n",
        "            pair = (word, y)\n",
        "            if pair in freqs:\n",
        "                freqs[pair] += 1\n",
        "            else:\n",
        "                freqs[pair] = 1    \n",
        "    return freqs"
      ],
      "id": "KN53oxe03Bj1"
    },
    {
      "cell_type": "code",
      "source": [
        "def process_tweet(tweet):\n",
        "  stemmer = PorterStemmer()\n",
        "  stopwords_english = stopwords.words('english')\n",
        "  tweet = re.sub(r'\\$\\w*', '', tweet)\n",
        "  tweet = re.sub(r'^RT[\\s]+', '', tweet)\n",
        "  tweet = re.sub(r'https?:\\/\\/.*[\\r\\n]*', '', tweet)\n",
        "  tweet = re.sub(r'#', '', tweet)\n",
        "  tokenizer = TweetTokenizer(preserve_case=False, strip_handles=True,reduce_len=True)\n",
        "  tweet_tokens = tokenizer.tokenize(tweet)\n",
        "\n",
        "  tweets_clean = []\n",
        "  for word in tweet_tokens:\n",
        "      if (word not in stopwords_english and  \n",
        "            word not in string.punctuation): \n",
        "        stem_word = stemmer.stem(word)  # stemming word\n",
        "        tweets_clean.append(stem_word)\n",
        "\n",
        "  return tweets_clean"
      ],
      "metadata": {
        "id": "bzMV8S6G3c2_"
      },
      "id": "bzMV8S6G3c2_",
      "execution_count": 12,
      "outputs": []
    },
    {
      "cell_type": "code",
      "execution_count": 15,
      "metadata": {
        "colab": {
          "base_uri": "https://localhost:8080/"
        },
        "id": "saFVfh9Y3Bj1",
        "outputId": "e1cd646d-f94b-44e1-a3fe-9a6da394250f"
      },
      "outputs": [
        {
          "output_type": "stream",
          "name": "stdout",
          "text": [
            "type(freqs) = <class 'dict'>\n",
            "len(freqs) = 11338\n"
          ]
        }
      ],
      "source": [
        "# create frequency dictionary\n",
        "freqs = build_freqs(train_x, train_y)\n",
        "\n",
        "# check the output\n",
        "print(\"type(freqs) = \" + str(type(freqs)))\n",
        "print(\"len(freqs) = \" + str(len(freqs.keys())))"
      ],
      "id": "saFVfh9Y3Bj1"
    },
    {
      "cell_type": "markdown",
      "metadata": {
        "id": "IFLmLjsK3Bj1"
      },
      "source": [
        "#### Expected output\n",
        "```\n",
        "type(freqs) = <class 'dict'>\n",
        "len(freqs) = 11436\n",
        "```"
      ],
      "id": "IFLmLjsK3Bj1"
    },
    {
      "cell_type": "markdown",
      "metadata": {
        "id": "dGrshZ6_3Bj1"
      },
      "source": [
        "### Process tweet\n",
        "The given function 'process_tweet' tokenizes the tweet into individual words, removes stop words and applies stemming."
      ],
      "id": "dGrshZ6_3Bj1"
    },
    {
      "cell_type": "code",
      "execution_count": 16,
      "metadata": {
        "colab": {
          "base_uri": "https://localhost:8080/"
        },
        "id": "iHoq5yuV3Bj1",
        "outputId": "664651dd-ee07-4363-e0c2-0e2038f8f55c"
      },
      "outputs": [
        {
          "output_type": "stream",
          "name": "stdout",
          "text": [
            "This is an example of a positive tweet: \n",
            " #FollowFriday @France_Inte @PKuchly57 @Milipol_Paris for being top engaged members in my community this week :)\n",
            "\n",
            "This is an example of the processed version of the tweet: \n",
            " ['followfriday', 'top', 'engag', 'member', 'commun', 'week', ':)']\n"
          ]
        }
      ],
      "source": [
        "# test the function below\n",
        "print('This is an example of a positive tweet: \\n', train_x[0])\n",
        "print('\\nThis is an example of the processed version of the tweet: \\n', process_tweet(train_x[0]))"
      ],
      "id": "iHoq5yuV3Bj1"
    },
    {
      "cell_type": "markdown",
      "metadata": {
        "id": "jXKuwmDG3Bj2"
      },
      "source": [
        "#### Expected output\n",
        "```\n",
        "This is an example of a positive tweet: \n",
        " #FollowFriday @France_Inte @PKuchly57 @Milipol_Paris for being top engaged members in my community this week :)\n",
        " \n",
        "This is an example of the processes version: \n",
        " ['followfriday', 'top', 'engag', 'member', 'commun', 'week', ':)']\n",
        "```"
      ],
      "id": "jXKuwmDG3Bj2"
    },
    {
      "cell_type": "markdown",
      "metadata": {
        "id": "rSkWDkEV3Bj2"
      },
      "source": [
        "# Part 1: Logistic regression \n",
        "\n",
        "\n",
        "### Part 1.1: Sigmoid\n",
        "You will learn to use logistic regression for text classification. \n",
        "* The sigmoid function is defined as: \n",
        "\n",
        "$$ h(z) = \\frac{1}{1+\\exp^{-z}} \\tag{1}$$\n",
        "\n",
        "It maps the input 'z' to a value that ranges between 0 and 1, and so it can be treated as a probability. \n",
        "\n",
        "<div style=\"width:image width px; font-size:100%; text-align:center;\"><img src='./images/sigmoid_plot.jpg' alt=\"alternate text\" width=\"width\" height=\"height\" style=\"width:300px;height:200px;\" /> Figure 1 </div>"
      ],
      "id": "rSkWDkEV3Bj2"
    },
    {
      "cell_type": "markdown",
      "metadata": {
        "id": "td8-eQkL3Bj2"
      },
      "source": [
        "#### Instructions: Implement the sigmoid function\n",
        "* You will want this function to work if z is a scalar as well as if it is an array."
      ],
      "id": "td8-eQkL3Bj2"
    },
    {
      "cell_type": "markdown",
      "metadata": {
        "id": "U5soJGGH3Bj2"
      },
      "source": [
        "<details>    \n",
        "<summary>\n",
        "    <font size=\"3\" color=\"darkgreen\"><b>Hints</b></font>\n",
        "</summary>\n",
        "<p>\n",
        "<ul>\n",
        "    <li><a href=\"https://docs.scipy.org/doc/numpy/reference/generated/numpy.exp.html\" > numpy.exp </a> </li>\n",
        "\n",
        "</ul>\n",
        "</p>\n",
        "\n"
      ],
      "id": "U5soJGGH3Bj2"
    },
    {
      "cell_type": "code",
      "execution_count": 17,
      "metadata": {
        "id": "CYg0NeJJ3Bj2"
      },
      "outputs": [],
      "source": [
        "# UNQ_C1 GRADED FUNCTION: sigmoid\n",
        "def sigmoid(z): \n",
        "    '''\n",
        "    Input:\n",
        "        z: is the input (can be a scalar or an array)\n",
        "    Output:\n",
        "        h: the sigmoid of z\n",
        "    '''\n",
        "    \n",
        "    ### START CODE HERE ###\n",
        "    # calculate the sigmoid of z\n",
        "    h = 1/(1+np.exp(-z))\n",
        "    ### END CODE HERE ###\n",
        "    \n",
        "    return h"
      ],
      "id": "CYg0NeJJ3Bj2"
    },
    {
      "cell_type": "code",
      "execution_count": 18,
      "metadata": {
        "colab": {
          "base_uri": "https://localhost:8080/"
        },
        "id": "r2BdVvdq3Bj3",
        "outputId": "d3cd072a-b385-4941-ea88-d35cab91da87"
      },
      "outputs": [
        {
          "output_type": "stream",
          "name": "stdout",
          "text": [
            "SUCCESS!\n",
            "CORRECT!\n"
          ]
        }
      ],
      "source": [
        "# Testing your function \n",
        "if (sigmoid(0) == 0.5):\n",
        "    print('SUCCESS!')\n",
        "else:\n",
        "    print('Oops!')\n",
        "\n",
        "if (sigmoid(4.92) == 0.9927537604041685):\n",
        "    print('CORRECT!')\n",
        "else:\n",
        "    print('Oops again!')"
      ],
      "id": "r2BdVvdq3Bj3"
    },
    {
      "cell_type": "code",
      "execution_count": 21,
      "metadata": {
        "colab": {
          "base_uri": "https://localhost:8080/"
        },
        "id": "Dqo64jgq3Bj3",
        "outputId": "a85db789-d515-4d95-d764-54b2dc76db66"
      },
      "outputs": [
        {
          "output_type": "stream",
          "name": "stdout",
          "text": [
            "\u001b[92m All tests passed\n"
          ]
        }
      ],
      "source": [
        "# Test your function\n",
        "w1_unittest.test_sigmoid(sigmoid)"
      ],
      "id": "Dqo64jgq3Bj3"
    },
    {
      "cell_type": "markdown",
      "metadata": {
        "id": "ZCEp38of3Bj3"
      },
      "source": [
        "### Logistic regression: regression and a sigmoid\n",
        "\n",
        "Logistic regression takes a regular linear regression, and applies a sigmoid to the output of the linear regression.\n",
        "\n",
        "Regression:\n",
        "$$z = \\theta_0 x_0 + \\theta_1 x_1 + \\theta_2 x_2 + ... \\theta_N x_N$$\n",
        "Note that the $\\theta$ values are \"weights\". If you took the deep learning specialization, we referred to the weights with the 'w' vector.  In this course, we're using a different variable $\\theta$ to refer to the weights.\n",
        "\n",
        "Logistic regression\n",
        "$$ h(z) = \\frac{1}{1+\\exp^{-z}}$$\n",
        "$$z = \\theta_0 x_0 + \\theta_1 x_1 + \\theta_2 x_2 + ... \\theta_N x_N$$\n",
        "We will refer to 'z' as the 'logits'."
      ],
      "id": "ZCEp38of3Bj3"
    },
    {
      "cell_type": "markdown",
      "metadata": {
        "id": "FhfbDFK73Bj3"
      },
      "source": [
        "### Part 1.2 Cost function and Gradient\n",
        "\n",
        "The cost function used for logistic regression is the average of the log loss across all training examples:\n",
        "\n",
        "$$J(\\theta) = -\\frac{1}{m} \\sum_{i=1}^m y^{(i)}\\log (h(z(\\theta)^{(i)})) + (1-y^{(i)})\\log (1-h(z(\\theta)^{(i)}))\\tag{5} $$\n",
        "* $m$ is the number of training examples\n",
        "* $y^{(i)}$ is the actual label of training example 'i'.\n",
        "* $h(z^{(i)})$ is the model's prediction for the training example 'i'.\n",
        "\n",
        "The loss function for a single training example is\n",
        "$$ Loss = -1 \\times \\left( y^{(i)}\\log (h(z(\\theta)^{(i)})) + (1-y^{(i)})\\log (1-h(z(\\theta)^{(i)})) \\right)$$\n",
        "\n",
        "* All the $h$ values are between 0 and 1, so the logs will be negative. That is the reason for the factor of -1 applied to the sum of the two loss terms.\n",
        "* Note that when the model predicts 1 ($h(z(\\theta)) = 1$) and the label 'y' is also 1, the loss for that training example is 0. \n",
        "* Similarly, when the model predicts 0 ($h(z(\\theta)) = 0$) and the actual label is also 0, the loss for that training example is 0. \n",
        "* However, when the model prediction is close to 1 ($h(z(\\theta)) = 0.9999$) and the label is 0, the second term of the log loss becomes a large negative number, which is then multiplied by the overall factor of -1 to convert it to a positive loss value. $-1 \\times (1 - 0) \\times log(1 - 0.9999) \\approx 9.2$ The closer the model prediction gets to 1, the larger the loss."
      ],
      "id": "FhfbDFK73Bj3"
    },
    {
      "cell_type": "code",
      "execution_count": 22,
      "metadata": {
        "colab": {
          "base_uri": "https://localhost:8080/"
        },
        "id": "WhgZvKQp3Bj3",
        "outputId": "0aecbb53-b294-4fff-a410-406d56bfc76b"
      },
      "outputs": [
        {
          "output_type": "execute_result",
          "data": {
            "text/plain": [
              "9.210340371976294"
            ]
          },
          "metadata": {},
          "execution_count": 22
        }
      ],
      "source": [
        "# verify that when the model predicts close to 1, but the actual label is 0, the loss is a large positive value\n",
        "-1 * (1 - 0) * np.log(1 - 0.9999) # loss is about 9.2"
      ],
      "id": "WhgZvKQp3Bj3"
    },
    {
      "cell_type": "markdown",
      "metadata": {
        "id": "tNgJ-f0A3Bj4"
      },
      "source": [
        "* Likewise, if the model predicts close to 0 ($h(z) = 0.0001$) but the actual label is 1, the first term in the loss function becomes a large number: $-1 \\times log(0.0001) \\approx 9.2$.  The closer the prediction is to zero, the larger the loss."
      ],
      "id": "tNgJ-f0A3Bj4"
    },
    {
      "cell_type": "code",
      "execution_count": 23,
      "metadata": {
        "colab": {
          "base_uri": "https://localhost:8080/"
        },
        "id": "jNr6agBl3Bj4",
        "outputId": "cd0a2184-6848-4f2e-e505-53924d54a70c"
      },
      "outputs": [
        {
          "output_type": "execute_result",
          "data": {
            "text/plain": [
              "9.210340371976182"
            ]
          },
          "metadata": {},
          "execution_count": 23
        }
      ],
      "source": [
        "# verify that when the model predicts close to 0 but the actual label is 1, the loss is a large positive value\n",
        "-1 * np.log(0.0001) # loss is about 9.2"
      ],
      "id": "jNr6agBl3Bj4"
    },
    {
      "cell_type": "markdown",
      "metadata": {
        "id": "FVjG4jRd3Bj4"
      },
      "source": [
        "#### Update the weights\n",
        "\n",
        "To update your weight vector $\\theta$, you will apply gradient descent to iteratively improve your model's predictions.  \n",
        "The gradient of the cost function $J$ with respect to one of the weights $\\theta_j$ is:\n",
        "\n",
        "$$\\nabla_{\\theta_j}J(\\theta) = \\frac{1}{m} \\sum_{i=1}^m(h^{(i)}-y^{(i)})x^{(i)}_j \\tag{5}$$\n",
        "* 'i' is the index across all 'm' training examples.\n",
        "* 'j' is the index of the weight $\\theta_j$, so $x^{(i)}_j$ is the feature associated with weight $\\theta_j$\n",
        "\n",
        "* To update the weight $\\theta_j$, we adjust it by subtracting a fraction of the gradient determined by $\\alpha$:\n",
        "$$\\theta_j = \\theta_j - \\alpha \\times \\nabla_{\\theta_j}J(\\theta) $$\n",
        "* The learning rate $\\alpha$ is a value that we choose to control how big a single update will be.\n"
      ],
      "id": "FVjG4jRd3Bj4"
    },
    {
      "cell_type": "markdown",
      "metadata": {
        "id": "ZQMKg8F53Bj4"
      },
      "source": [
        "## Instructions: Implement gradient descent function\n",
        "* The number of iterations 'num_iters\" is the number of times that you'll use the entire training set.\n",
        "* For each iteration, you'll calculate the cost function using all training examples (there are 'm' training examples), and for all features.\n",
        "* Instead of updating a single weight $\\theta_i$ at a time, we can update all the weights in the column vector:  \n",
        "$$\\mathbf{\\theta} = \\begin{pmatrix}\n",
        "\\theta_0\n",
        "\\\\\n",
        "\\theta_1\n",
        "\\\\ \n",
        "\\theta_2 \n",
        "\\\\ \n",
        "\\vdots\n",
        "\\\\ \n",
        "\\theta_n\n",
        "\\end{pmatrix}$$\n",
        "* $\\mathbf{\\theta}$ has dimensions (n+1, 1), where 'n' is the number of features, and there is one more element for the bias term $\\theta_0$ (note that the corresponding feature value $\\mathbf{x_0}$ is 1).\n",
        "* The 'logits', 'z', are calculated by multiplying the feature matrix 'x' with the weight vector 'theta'.  $z = \\mathbf{x}\\mathbf{\\theta}$\n",
        "    * $\\mathbf{x}$ has dimensions (m, n+1) \n",
        "    * $\\mathbf{\\theta}$: has dimensions (n+1, 1)\n",
        "    * $\\mathbf{z}$: has dimensions (m, 1)\n",
        "* The prediction 'h', is calculated by applying the sigmoid to each element in 'z': $h(z) = sigmoid(z)$, and has dimensions (m,1).\n",
        "* The cost function $J$ is calculated by taking the dot product of the vectors 'y' and 'log(h)'.  Since both 'y' and 'h' are column vectors (m,1), transpose the vector to the left, so that matrix multiplication of a row vector with column vector performs the dot product.\n",
        "$$J = \\frac{-1}{m} \\times \\left(\\mathbf{y}^T \\cdot log(\\mathbf{h}) + \\mathbf{(1-y)}^T \\cdot log(\\mathbf{1-h}) \\right)$$\n",
        "* The update of theta is also vectorized.  Because the dimensions of $\\mathbf{x}$ are (m, n+1), and both $\\mathbf{h}$ and $\\mathbf{y}$ are (m, 1), we need to transpose the $\\mathbf{x}$ and place it on the left in order to perform matrix multiplication, which then yields the (n+1, 1) answer we need:\n",
        "$$\\mathbf{\\theta} = \\mathbf{\\theta} - \\frac{\\alpha}{m} \\times \\left( \\mathbf{x}^T \\cdot \\left( \\mathbf{h-y} \\right) \\right)$$"
      ],
      "id": "ZQMKg8F53Bj4"
    },
    {
      "cell_type": "markdown",
      "metadata": {
        "id": "KGpmecAF3Bj4"
      },
      "source": [
        "<details>    \n",
        "<summary>\n",
        "    <font size=\"3\" color=\"darkgreen\"><b>Hints</b></font>\n",
        "</summary>\n",
        "<p>\n",
        "<ul>\n",
        "    <li>use numpy.dot for matrix multiplication.</li>\n",
        "    <li>To ensure that the fraction -1/m is a decimal value, cast either the numerator or denominator (or both), like `float(1)`, or write `1.` for the float version of 1. </li>\n",
        "</ul>\n",
        "</p>\n",
        "\n"
      ],
      "id": "KGpmecAF3Bj4"
    },
    {
      "cell_type": "code",
      "execution_count": 24,
      "metadata": {
        "id": "KJuW14523Bj4"
      },
      "outputs": [],
      "source": [
        "# UNQ_C2 GRADED FUNCTION: gradientDescent\n",
        "def gradientDescent(x, y, theta, alpha, num_iters):\n",
        "    '''\n",
        "    Input:\n",
        "        x: matrix of features which is (m,n+1)\n",
        "        y: corresponding labels of the input matrix x, dimensions (m,1)\n",
        "        theta: weight vector of dimension (n+1,1)\n",
        "        alpha: learning rate\n",
        "        num_iters: number of iterations you want to train your model for\n",
        "    Output:\n",
        "        J: the final cost\n",
        "        theta: your final weight vector\n",
        "    Hint: you might want to print the cost to make sure that it is going down.\n",
        "    '''\n",
        "    ### START CODE HERE ###\n",
        "    # get 'm', the number of rows in matrix x\n",
        "    m = len(x)\n",
        "    \n",
        "    for i in range(0, num_iters):\n",
        "        \n",
        "        # get z, the dot product of x and theta\n",
        "        z = np.dot(x,theta)\n",
        "        \n",
        "        # get the sigmoid of z\n",
        "        h = sigmoid(z)\n",
        "        \n",
        "        # calculate the cost function\n",
        "        J = (-1/m)*(np.dot(y.transpose(),np.log(h)) + np.dot((1 - y).transpose(),np.log(1 - h)))\n",
        "\n",
        "        # update the weights theta\n",
        "        theta = theta - (alpha/m)*(np.dot(x.transpose(),(h - y)))\n",
        "        \n",
        "    ### END CODE HERE ###\n",
        "    J = float(J)\n",
        "    return J, theta"
      ],
      "id": "KJuW14523Bj4"
    },
    {
      "cell_type": "code",
      "execution_count": 25,
      "metadata": {
        "colab": {
          "base_uri": "https://localhost:8080/"
        },
        "id": "JdaSGUZg3Bj5",
        "outputId": "68d2f958-da8b-4b4d-f3aa-15718fa3eff7"
      },
      "outputs": [
        {
          "output_type": "stream",
          "name": "stdout",
          "text": [
            "The cost after training is 0.67094970.\n",
            "The resulting vector of weights is [4.1e-07, 0.00035658, 7.309e-05]\n"
          ]
        }
      ],
      "source": [
        "# Check the function\n",
        "# Construct a synthetic test case using numpy PRNG functions\n",
        "np.random.seed(1)\n",
        "# X input is 10 x 3 with ones for the bias terms\n",
        "tmp_X = np.append(np.ones((10, 1)), np.random.rand(10, 2) * 2000, axis=1)\n",
        "# Y Labels are 10 x 1\n",
        "tmp_Y = (np.random.rand(10, 1) > 0.35).astype(float)\n",
        "\n",
        "# Apply gradient descent\n",
        "tmp_J, tmp_theta = gradientDescent(tmp_X, tmp_Y, np.zeros((3, 1)), 1e-8, 700)\n",
        "print(f\"The cost after training is {tmp_J:.8f}.\")\n",
        "print(f\"The resulting vector of weights is {[round(t, 8) for t in np.squeeze(tmp_theta)]}\")"
      ],
      "id": "JdaSGUZg3Bj5"
    },
    {
      "cell_type": "markdown",
      "metadata": {
        "id": "dKkCw1v_3Bj5"
      },
      "source": [
        "#### Expected output\n",
        "```\n",
        "The cost after training is 0.67094970.\n",
        "The resulting vector of weights is [4.1e-07, 0.00035658, 7.309e-05]\n",
        "```"
      ],
      "id": "dKkCw1v_3Bj5"
    },
    {
      "cell_type": "code",
      "execution_count": 26,
      "metadata": {
        "colab": {
          "base_uri": "https://localhost:8080/"
        },
        "id": "ki56plc23Bj5",
        "outputId": "7a98d745-d2a9-4b1b-8a53-c9852cb3af07"
      },
      "outputs": [
        {
          "output_type": "stream",
          "name": "stdout",
          "text": [
            "\u001b[92m All tests passed\n"
          ]
        }
      ],
      "source": [
        "# Test your function\n",
        "w1_unittest.test_gradientDescent(gradientDescent)"
      ],
      "id": "ki56plc23Bj5"
    },
    {
      "cell_type": "markdown",
      "metadata": {
        "id": "K1QQhaJ23Bj5"
      },
      "source": [
        "## Part 2: Extracting the features\n",
        "\n",
        "* Given a list of tweets, extract the features and store them in a matrix. You will extract two features.\n",
        "    * The first feature is the number of positive words in a tweet.\n",
        "    * The second feature is the number of negative words in a tweet. \n",
        "* Then train your logistic regression classifier on these features.\n",
        "* Test the classifier on a validation set. \n",
        "\n",
        "### Instructions: Implement the extract_features function. \n",
        "* This function takes in a single tweet.\n",
        "* Process the tweet using the imported `process_tweet` function and save the list of tweet words.\n",
        "* Loop through each word in the list of processed words\n",
        "    * For each word, check the 'freqs' dictionary for the count when that word has a positive '1' label. (Check for the key (word, 1.0)\n",
        "    * Do the same for the count for when the word is associated with the negative label '0'. (Check for the key (word, 0.0).)\n"
      ],
      "id": "K1QQhaJ23Bj5"
    },
    {
      "cell_type": "markdown",
      "metadata": {
        "id": "F4pYLUCp3Bj5"
      },
      "source": [
        "<details>    \n",
        "<summary>\n",
        "    <font size=\"3\" color=\"darkgreen\"><b>Hints</b></font>\n",
        "</summary>\n",
        "<p>\n",
        "<ul>\n",
        "    <li>Make sure you handle cases when the (word, label) key is not found in the dictionary. </li>\n",
        "    <li> Search the web for hints about using the 'get' function of a Python dictionary.  Here is an <a href=\"https://www.programiz.com/python-programming/methods/dictionary/get\" > example </a> </li>\n",
        "</ul>\n",
        "</p>\n"
      ],
      "id": "F4pYLUCp3Bj5"
    },
    {
      "cell_type": "code",
      "execution_count": 27,
      "metadata": {
        "id": "jkxck40e3Bj6"
      },
      "outputs": [],
      "source": [
        "# UNQ_C3 GRADED FUNCTION: extract_features\n",
        "def extract_features(tweet, freqs, process_tweet=process_tweet):\n",
        "    '''\n",
        "    Input: \n",
        "        tweet: a list of words for one tweet\n",
        "        freqs: a dictionary corresponding to the frequencies of each tuple (word, label)\n",
        "    Output: \n",
        "        x: a feature vector of dimension (1,3)\n",
        "    '''\n",
        "    # process_tweet tokenizes, stems, and removes stopwords\n",
        "    word_l = process_tweet(tweet)\n",
        "    \n",
        "    # 3 elements in the form of a 1 x 3 vector\n",
        "    x = np.zeros((1, 3)) \n",
        "    \n",
        "    #bias term is set to 1\n",
        "    x[0,0] = 1 \n",
        "    \n",
        "    ### START CODE HERE ###\n",
        "    \n",
        "    # loop through each word in the list of words\n",
        "    for word in word_l:\n",
        "        \n",
        "        # increment the word count for the positive label 1\n",
        "        x[0,1] += freqs.get((word, 1.0),0)\n",
        "        \n",
        "        # increment the word count for the negative label 0\n",
        "        x[0,2] += freqs.get((word, 0),0)\n",
        "        \n",
        "    ### END CODE HERE ###\n",
        "    assert(x.shape == (1, 3))\n",
        "    return x"
      ],
      "id": "jkxck40e3Bj6"
    },
    {
      "cell_type": "code",
      "execution_count": 28,
      "metadata": {
        "colab": {
          "base_uri": "https://localhost:8080/"
        },
        "id": "g99_nJlQ3Bj6",
        "outputId": "75295ded-7ee7-4061-966d-e566a655d164"
      },
      "outputs": [
        {
          "output_type": "stream",
          "name": "stdout",
          "text": [
            "[[1.00e+00 3.02e+03 6.10e+01]]\n"
          ]
        }
      ],
      "source": [
        "# Check your function\n",
        "# test 1\n",
        "# test on training data\n",
        "tmp1 = extract_features(train_x[0], freqs)\n",
        "print(tmp1)"
      ],
      "id": "g99_nJlQ3Bj6"
    },
    {
      "cell_type": "markdown",
      "metadata": {
        "id": "UxmflAPf3Bj6"
      },
      "source": [
        "#### Expected output\n",
        "```\n",
        "[[1.000e+00 3.133e+03 6.100e+01]]\n",
        "```"
      ],
      "id": "UxmflAPf3Bj6"
    },
    {
      "cell_type": "code",
      "execution_count": 29,
      "metadata": {
        "colab": {
          "base_uri": "https://localhost:8080/"
        },
        "id": "z2P0YllF3Bj6",
        "outputId": "1b56295f-e7fa-4dac-819a-e7f1cde32609"
      },
      "outputs": [
        {
          "output_type": "stream",
          "name": "stdout",
          "text": [
            "[[1. 0. 0.]]\n"
          ]
        }
      ],
      "source": [
        "# test 2:\n",
        "# check for when the words are not in the freqs dictionary\n",
        "tmp2 = extract_features('blorb bleeeeb bloooob', freqs)\n",
        "print(tmp2)"
      ],
      "id": "z2P0YllF3Bj6"
    },
    {
      "cell_type": "markdown",
      "metadata": {
        "id": "BAZ3VtOe3Bj6"
      },
      "source": [
        "#### Expected output\n",
        "```\n",
        "[[1. 0. 0.]]\n",
        "```"
      ],
      "id": "BAZ3VtOe3Bj6"
    },
    {
      "cell_type": "code",
      "execution_count": 30,
      "metadata": {
        "colab": {
          "base_uri": "https://localhost:8080/"
        },
        "id": "_AsJ7Ybe3Bj6",
        "outputId": "2d40c845-1fd5-42e5-94f3-ec74f20805da"
      },
      "outputs": [
        {
          "output_type": "stream",
          "name": "stdout",
          "text": [
            "Wrong output values. Check how you are computing the positive or negative word count. \n",
            "\tExpected: [[1.000e+00 3.133e+03 6.100e+01]].\n",
            "\tGot: [[1.00e+00 3.02e+03 6.10e+01]].\n",
            "\u001b[92m 7  Tests passed\n",
            "\u001b[91m 1  Tests failed\n"
          ]
        }
      ],
      "source": [
        "# Test your function\n",
        "w1_unittest.test_extract_features(extract_features, freqs)"
      ],
      "id": "_AsJ7Ybe3Bj6"
    },
    {
      "cell_type": "markdown",
      "metadata": {
        "id": "QfO9-LM-3Bj7"
      },
      "source": [
        "## Part 3: Training Your Model\n",
        "\n",
        "To train the model:\n",
        "* Stack the features for all training examples into a matrix X. \n",
        "* Call `gradientDescent`, which you've implemented above.\n",
        "\n",
        "This section is given to you.  Please read it for understanding and run the cell."
      ],
      "id": "QfO9-LM-3Bj7"
    },
    {
      "cell_type": "code",
      "execution_count": 31,
      "metadata": {
        "colab": {
          "base_uri": "https://localhost:8080/"
        },
        "id": "8s8_jnpP3Bj7",
        "outputId": "ff443f7e-0fd5-4dac-a35d-582efb0d6cfa"
      },
      "outputs": [
        {
          "output_type": "stream",
          "name": "stdout",
          "text": [
            "The cost after training is 0.24215474.\n",
            "The resulting vector of weights is [7e-08, 0.00052391, -0.00055517]\n"
          ]
        }
      ],
      "source": [
        "# collect the features 'x' and stack them into a matrix 'X'\n",
        "X = np.zeros((len(train_x), 3))\n",
        "for i in range(len(train_x)):\n",
        "    X[i, :]= extract_features(train_x[i], freqs)\n",
        "\n",
        "# training labels corresponding to X\n",
        "Y = train_y\n",
        "\n",
        "# Apply gradient descent\n",
        "J, theta = gradientDescent(X, Y, np.zeros((3, 1)), 1e-9, 1500)\n",
        "print(f\"The cost after training is {J:.8f}.\")\n",
        "print(f\"The resulting vector of weights is {[round(t, 8) for t in np.squeeze(theta)]}\")"
      ],
      "id": "8s8_jnpP3Bj7"
    },
    {
      "cell_type": "markdown",
      "metadata": {
        "id": "NapQzkCd3Bj7"
      },
      "source": [
        "**Expected Output**: \n",
        "\n",
        "```\n",
        "The cost after training is 0.22522315.\n",
        "The resulting vector of weights is [6e-08, 0.00053818, -0.0005583]\n",
        "```"
      ],
      "id": "NapQzkCd3Bj7"
    },
    {
      "cell_type": "markdown",
      "metadata": {
        "id": "uPg8aQQG3Bj7"
      },
      "source": [
        "# Part 4: Test your logistic regression\n",
        "\n",
        "It is time for you to test your logistic regression function on some new input that your model has not seen before. \n",
        "\n",
        "#### Instructions: Write `predict_tweet`\n",
        "Predict whether a tweet is positive or negative.\n",
        "\n",
        "* Given a tweet, process it, then extract the features.\n",
        "* Apply the model's learned weights on the features to get the logits.\n",
        "* Apply the sigmoid to the logits to get the prediction (a value between 0 and 1).\n",
        "\n",
        "$$y_{pred} = sigmoid(\\mathbf{x} \\cdot \\theta)$$"
      ],
      "id": "uPg8aQQG3Bj7"
    },
    {
      "cell_type": "code",
      "execution_count": 32,
      "metadata": {
        "id": "_AOywD-m3Bj7"
      },
      "outputs": [],
      "source": [
        "# UNQ_C4 GRADED FUNCTION: predict_tweet\n",
        "def predict_tweet(tweet, freqs, theta):\n",
        "    '''\n",
        "    Input: \n",
        "        tweet: a string\n",
        "        freqs: a dictionary corresponding to the frequencies of each tuple (word, label)\n",
        "        theta: (3,1) vector of weights\n",
        "    Output: \n",
        "        y_pred: the probability of a tweet being positive or negative\n",
        "    '''\n",
        "    ### START CODE HERE ###\n",
        "    \n",
        "    # extract the features of the tweet and store it into x\n",
        "    x = extract_features(tweet,freqs)\n",
        "    \n",
        "    # make the prediction using x and theta\n",
        "    y_pred = sigmoid(np.dot(x,theta))\n",
        "    \n",
        "    ### END CODE HERE ###\n",
        "    \n",
        "    return y_pred"
      ],
      "id": "_AOywD-m3Bj7"
    },
    {
      "cell_type": "code",
      "execution_count": 33,
      "metadata": {
        "lines_to_next_cell": 2,
        "colab": {
          "base_uri": "https://localhost:8080/"
        },
        "id": "UJTUDP4b3Bj7",
        "outputId": "751f7186-e724-46f1-d0f2-1e9d0b224453"
      },
      "outputs": [
        {
          "output_type": "stream",
          "name": "stdout",
          "text": [
            "I am happy -> 0.518581\n",
            "I am bad -> 0.494339\n",
            "this movie should have been great. -> 0.515331\n",
            "great -> 0.515464\n",
            "great great -> 0.530899\n",
            "great great great -> 0.546274\n",
            "great great great great -> 0.561562\n"
          ]
        }
      ],
      "source": [
        "# Run this cell to test your function\n",
        "for tweet in ['I am happy', 'I am bad', 'this movie should have been great.', 'great', 'great great', 'great great great', 'great great great great']:\n",
        "    print( '%s -> %f' % (tweet, predict_tweet(tweet, freqs, theta)))    "
      ],
      "id": "UJTUDP4b3Bj7"
    },
    {
      "cell_type": "markdown",
      "metadata": {
        "id": "Gtvcr0-R3Bj7"
      },
      "source": [
        "**Expected Output**: \n",
        "```\n",
        "I am happy -> 0.519275\n",
        "I am bad -> 0.494347\n",
        "this movie should have been great. -> 0.515979\n",
        "great -> 0.516065\n",
        "great great -> 0.532096\n",
        "great great great -> 0.548062\n",
        "great great great great -> 0.563929\n",
        "```"
      ],
      "id": "Gtvcr0-R3Bj7"
    },
    {
      "cell_type": "code",
      "execution_count": 34,
      "metadata": {
        "colab": {
          "base_uri": "https://localhost:8080/"
        },
        "id": "LsZGWid43Bj7",
        "outputId": "43baf426-c46c-4cb8-b733-1c233d343c3b"
      },
      "outputs": [
        {
          "output_type": "execute_result",
          "data": {
            "text/plain": [
              "array([[0.81636912]])"
            ]
          },
          "metadata": {},
          "execution_count": 34
        }
      ],
      "source": [
        "# Feel free to check the sentiment of your own tweet below\n",
        "my_tweet = 'I am learning :)'\n",
        "predict_tweet(my_tweet, freqs, theta)"
      ],
      "id": "LsZGWid43Bj7"
    },
    {
      "cell_type": "code",
      "execution_count": 35,
      "metadata": {
        "colab": {
          "base_uri": "https://localhost:8080/"
        },
        "id": "5EUAxoiz3Bj8",
        "outputId": "3034ef11-80b2-47c7-d8d5-a6312086df00"
      },
      "outputs": [
        {
          "output_type": "stream",
          "name": "stdout",
          "text": [
            "Wrong predicted values. \n",
            "\tExpected: [[0.5192746]].\n",
            "\tGot: [[0.51858054]].\n",
            "Wrong predicted values. \n",
            "\tExpected: [[0.49434685]].\n",
            "\tGot: [[0.49433909]].\n",
            "Wrong predicted values. \n",
            "\tExpected: [[0.5159792]].\n",
            "\tGot: [[0.51533141]].\n",
            "Wrong predicted values. \n",
            "\tExpected: [[0.52320595]].\n",
            "\tGot: [[0.52215263]].\n",
            "Wrong predicted values. \n",
            "\tExpected: [[0.49780224]].\n",
            "\tGot: [[0.497348]].\n",
            "Wrong predicted values. \n",
            "\tExpected: [[0.00147813]].\n",
            "\tGot: [[0.00143164]].\n",
            "Wrong predicted values. \n",
            "\tExpected: [[0.45673348]].\n",
            "\tGot: [[0.44880504]].\n",
            "Wrong predicted values. \n",
            "\tExpected: [[0.01561938]].\n",
            "\tGot: [[0.01615085]].\n",
            "\u001b[92m 8  Tests passed\n",
            "\u001b[91m 8  Tests failed\n"
          ]
        }
      ],
      "source": [
        "# Test your function\n",
        "w1_unittest.test_predict_tweet(predict_tweet, freqs, theta)"
      ],
      "id": "5EUAxoiz3Bj8"
    },
    {
      "cell_type": "markdown",
      "metadata": {
        "id": "XtuPvGM-3Bj8"
      },
      "source": [
        "## Check performance using the test set\n",
        "After training your model using the training set above, check how your model might perform on real, unseen data, by testing it against the test set.\n",
        "\n",
        "#### Instructions: Implement `test_logistic_regression` \n",
        "* Given the test data and the weights of your trained model, calculate the accuracy of your logistic regression model. \n",
        "* Use your 'predict_tweet' function to make predictions on each tweet in the test set.\n",
        "* If the prediction is > 0.5, set the model's classification 'y_hat' to 1, otherwise set the model's classification 'y_hat' to 0.\n",
        "* A prediction is accurate when the y_hat equals the test_y.  Sum up all the instances when they are equal and divide by m.\n"
      ],
      "id": "XtuPvGM-3Bj8"
    },
    {
      "cell_type": "markdown",
      "metadata": {
        "id": "kR2qfSjc3Bj8"
      },
      "source": [
        "<details>    \n",
        "<summary>\n",
        "    <font size=\"3\" color=\"darkgreen\"><b>Hints</b></font>\n",
        "</summary>\n",
        "<p>\n",
        "<ul>\n",
        "    <li>Use np.asarray() to convert a list to a numpy array</li>\n",
        "    <li>Use numpy.squeeze() to make an (m,1) dimensional array into an (m,) array </li>\n",
        "</ul>\n",
        "</p>"
      ],
      "id": "kR2qfSjc3Bj8"
    },
    {
      "cell_type": "code",
      "execution_count": 36,
      "metadata": {
        "id": "mlhs7bgq3Bj8"
      },
      "outputs": [],
      "source": [
        "# UNQ_C5 GRADED FUNCTION: test_logistic_regression\n",
        "from sklearn.metrics import accuracy_score\n",
        "def test_logistic_regression(test_x, test_y, freqs, theta, predict_tweet=predict_tweet):\n",
        "    \"\"\"\n",
        "    Input: \n",
        "        test_x: a list of tweets\n",
        "        test_y: (m, 1) vector with the corresponding labels for the list of tweets\n",
        "        freqs: a dictionary with the frequency of each pair (or tuple)\n",
        "        theta: weight vector of dimension (3, 1)\n",
        "    Output: \n",
        "        accuracy: (# of tweets classified correctly) / (total # of tweets)\n",
        "    \"\"\"\n",
        "    \n",
        "    ### START CODE HERE ###\n",
        "    \n",
        "    # the list for storing predictions\n",
        "    y_hat = []\n",
        "    \n",
        "    for tweet in test_x:\n",
        "        # get the label prediction for the tweet\n",
        "        y_pred = predict_tweet(tweet, freqs, theta)\n",
        "        \n",
        "        if y_pred > 0.5:\n",
        "            # append 1.0 to the list\n",
        "            y_hat.append(1.0)\n",
        "        else:\n",
        "            # append 0 to the list\n",
        "            y_hat.append(0.0)\n",
        "\n",
        "    # With the above implementation, y_hat is a list, but test_y is (m,1) array\n",
        "    # convert both to one-dimensional arrays in order to compare them using the '==' operator\n",
        "    accuracy = accuracy_score(y_hat, test_y)\n",
        "\n",
        "    ### END CODE HERE ###\n",
        "    \n",
        "    return accuracy"
      ],
      "id": "mlhs7bgq3Bj8"
    },
    {
      "cell_type": "code",
      "execution_count": 37,
      "metadata": {
        "colab": {
          "base_uri": "https://localhost:8080/"
        },
        "id": "zRrclzZl3Bj8",
        "outputId": "9aa17269-084c-4009-aec3-1a54326ddf82"
      },
      "outputs": [
        {
          "output_type": "stream",
          "name": "stdout",
          "text": [
            "Logistic regression model's accuracy = 0.9950\n"
          ]
        }
      ],
      "source": [
        "tmp_accuracy = test_logistic_regression(test_x, test_y, freqs, theta)\n",
        "print(f\"Logistic regression model's accuracy = {tmp_accuracy:.4f}\")"
      ],
      "id": "zRrclzZl3Bj8"
    },
    {
      "cell_type": "markdown",
      "metadata": {
        "id": "WipFC5xW3Bj8"
      },
      "source": [
        "#### Expected Output: \n",
        "```0.9950```  \n",
        "Pretty good!"
      ],
      "id": "WipFC5xW3Bj8"
    },
    {
      "cell_type": "code",
      "execution_count": 38,
      "metadata": {
        "colab": {
          "base_uri": "https://localhost:8080/"
        },
        "id": "lJGbLXNZ3Bj8",
        "outputId": "b3cf017a-2bd3-402f-e37e-cccc84815c53"
      },
      "outputs": [
        {
          "output_type": "stream",
          "name": "stdout",
          "text": [
            "\u001b[92m All tests passed\n"
          ]
        }
      ],
      "source": [
        "# Test your function\n",
        "w1_unittest.unittest_test_logistic_regression(test_logistic_regression, freqs, theta)"
      ],
      "id": "lJGbLXNZ3Bj8"
    },
    {
      "cell_type": "markdown",
      "metadata": {
        "id": "T5b4FY7Z3Bj9"
      },
      "source": [
        "# Part 5: Error Analysis\n",
        "\n",
        "In this part you will see some tweets that your model misclassified. Why do you think the misclassifications happened? Specifically what kind of tweets does your model misclassify?"
      ],
      "id": "T5b4FY7Z3Bj9"
    },
    {
      "cell_type": "code",
      "execution_count": 39,
      "metadata": {
        "colab": {
          "base_uri": "https://localhost:8080/"
        },
        "id": "-91ernMI3Bj9",
        "outputId": "f79ad91a-497b-4bec-8838-f2864ae6e590"
      },
      "outputs": [
        {
          "output_type": "stream",
          "name": "stdout",
          "text": [
            "Label Predicted Tweet\n",
            "THE TWEET IS: @jaredNOTsubway @iluvmariah @Bravotv Then that truly is a LATERAL move! Now, we all know the Queen Bee is UPWARD BOUND : ) #MovingOnUp\n",
            "THE PROCESSED TWEET IS: ['truli', 'later', 'move', 'know', 'queen', 'bee', 'upward', 'bound', 'movingonup']\n",
            "1\t0.49996920\tb'truli later move know queen bee upward bound movingonup'\n",
            "THE TWEET IS: @MarkBreech Not sure it would be good thing 4 my bottom daring 2 say 2 Miss B but Im gonna be so stubborn on mouth soaping ! #NotHavingit :p\n",
            "THE PROCESSED TWEET IS: ['sure', 'would', 'good', 'thing', '4', 'bottom', 'dare', '2', 'say', '2', 'miss', 'b', 'im', 'gonna', 'stubborn', 'mouth', 'soap', 'nothavingit', ':p']\n",
            "1\t0.48663815\tb'sure would good thing 4 bottom dare 2 say 2 miss b im gonna stubborn mouth soap nothavingit :p'\n",
            "THE TWEET IS: I'm playing Brain Dots : ) #BrainDots\n",
            "http://t.co/UGQzOx0huu\n",
            "THE PROCESSED TWEET IS: [\"i'm\", 'play', 'brain', 'dot', 'braindot']\n",
            "1\t0.48370697\tb\"i'm play brain dot braindot\"\n",
            "THE TWEET IS: I'm playing Brain Dots : ) #BrainDots http://t.co/aOKldo3GMj http://t.co/xWCM9qyRG5\n",
            "THE PROCESSED TWEET IS: [\"i'm\", 'play', 'brain', 'dot', 'braindot']\n",
            "1\t0.48370697\tb\"i'm play brain dot braindot\"\n",
            "THE TWEET IS: I'm playing Brain Dots : ) #BrainDots http://t.co/R2JBO8iNww http://t.co/ow5BBwdEMY\n",
            "THE PROCESSED TWEET IS: [\"i'm\", 'play', 'brain', 'dot', 'braindot']\n",
            "1\t0.48370697\tb\"i'm play brain dot braindot\"\n",
            "THE TWEET IS: off to the park to get some sunlight : )\n",
            "THE PROCESSED TWEET IS: ['park', 'get', 'sunlight']\n",
            "1\t0.49578796\tb'park get sunlight'\n",
            "THE TWEET IS: @msarosh Uff Itna Miss karhy thy ap :p\n",
            "THE PROCESSED TWEET IS: ['uff', 'itna', 'miss', 'karhi', 'thi', 'ap', ':p']\n",
            "1\t0.48212905\tb'uff itna miss karhi thi ap :p'\n",
            "THE TWEET IS: @phenomyoutube u probs had more fun with david than me : (\n",
            "THE PROCESSED TWEET IS: ['u', 'prob', 'fun', 'david']\n",
            "0\t0.50020391\tb'u prob fun david'\n",
            "THE TWEET IS: pats jay : (\n",
            "THE PROCESSED TWEET IS: ['pat', 'jay']\n",
            "0\t0.50039295\tb'pat jay'\n",
            "THE TWEET IS: my beloved grandmother : ( https://t.co/wt4oXq5xCf\n",
            "THE PROCESSED TWEET IS: ['belov', 'grandmoth']\n",
            "0\t0.50000002\tb'belov grandmoth'\n"
          ]
        }
      ],
      "source": [
        "# Some error analysis done for you\n",
        "print('Label Predicted Tweet')\n",
        "for x,y in zip(test_x,test_y):\n",
        "    y_hat = predict_tweet(x, freqs, theta)\n",
        "\n",
        "    if np.abs(y - (y_hat > 0.5)) > 0:\n",
        "        print('THE TWEET IS:', x)\n",
        "        print('THE PROCESSED TWEET IS:', process_tweet(x))\n",
        "        print('%d\\t%0.8f\\t%s' % (y, y_hat, ' '.join(process_tweet(x)).encode('ascii', 'ignore')))"
      ],
      "id": "-91ernMI3Bj9"
    },
    {
      "cell_type": "markdown",
      "metadata": {
        "id": "V_MBOHf83Bj9"
      },
      "source": [
        "Later in this specialization, we will see how we can use deeplearning to improve the prediction performance."
      ],
      "id": "V_MBOHf83Bj9"
    },
    {
      "cell_type": "markdown",
      "metadata": {
        "id": "FdwwI9Ug3Bj9"
      },
      "source": [
        "# Part 6: Predict with your own tweet"
      ],
      "id": "FdwwI9Ug3Bj9"
    },
    {
      "cell_type": "code",
      "execution_count": 40,
      "metadata": {
        "colab": {
          "base_uri": "https://localhost:8080/"
        },
        "id": "eOTUChy73Bj9",
        "outputId": "23365bb7-9e2b-48da-efcb-fe8cb0384a70"
      },
      "outputs": [
        {
          "output_type": "stream",
          "name": "stdout",
          "text": [
            "['ridicul', 'bright', 'movi', 'plot', 'terribl', 'sad', 'end']\n",
            "[[0.48139084]]\n",
            "Negative sentiment\n"
          ]
        }
      ],
      "source": [
        "# Feel free to change the tweet below\n",
        "my_tweet = 'This is a ridiculously bright movie. The plot was terrible and I was sad until the ending!'\n",
        "print(process_tweet(my_tweet))\n",
        "y_hat = predict_tweet(my_tweet, freqs, theta)\n",
        "print(y_hat)\n",
        "if y_hat > 0.5:\n",
        "    print('Positive sentiment')\n",
        "else: \n",
        "    print('Negative sentiment')"
      ],
      "id": "eOTUChy73Bj9"
    }
  ],
  "metadata": {
    "kernelspec": {
      "display_name": "Python 3",
      "language": "python",
      "name": "python3"
    },
    "language_info": {
      "codemirror_mode": {
        "name": "ipython",
        "version": 3
      },
      "file_extension": ".py",
      "mimetype": "text/x-python",
      "name": "python",
      "nbconvert_exporter": "python",
      "pygments_lexer": "ipython3",
      "version": "3.7.6"
    },
    "colab": {
      "name": "SentimentAnalysis_LogisticRegression_Assignment.ipynb",
      "provenance": [],
      "collapsed_sections": [
        "IFLmLjsK3Bj1",
        "jXKuwmDG3Bj2",
        "FVjG4jRd3Bj4",
        "WipFC5xW3Bj8"
      ],
      "include_colab_link": true
    }
  },
  "nbformat": 4,
  "nbformat_minor": 5
}