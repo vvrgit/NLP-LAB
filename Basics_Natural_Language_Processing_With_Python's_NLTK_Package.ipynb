{
  "nbformat": 4,
  "nbformat_minor": 0,
  "metadata": {
    "colab": {
      "provenance": [],
      "authorship_tag": "ABX9TyMrLcJzB87Qjg9nkzzpa/3m",
      "include_colab_link": true
    },
    "kernelspec": {
      "name": "python3",
      "display_name": "Python 3"
    },
    "language_info": {
      "name": "python"
    }
  },
  "cells": [
    {
      "cell_type": "markdown",
      "metadata": {
        "id": "view-in-github",
        "colab_type": "text"
      },
      "source": [
        "<a href=\"https://colab.research.google.com/github/vvrgit/NLP-LAB/blob/main/Basics_Natural_Language_Processing_With_Python's_NLTK_Package.ipynb\" target=\"_parent\"><img src=\"https://colab.research.google.com/assets/colab-badge.svg\" alt=\"Open In Colab\"/></a>"
      ]
    },
    {
      "cell_type": "markdown",
      "source": [
        "**Natural language processing (NLP) is a field that focuses on making natural human language usable by computer programs.\n",
        "\n",
        "NLTK, or Natural Language Toolkit, is a Python package that you can use for NLP **"
      ],
      "metadata": {
        "id": "OKDBhYOJt9PD"
      }
    },
    {
      "cell_type": "markdown",
      "source": [
        "A lot of the data that you could be analyzing is unstructured data and contains human-readable text. Before you can analyze that data programmatically, you first need to preprocess it."
      ],
      "metadata": {
        "id": "vDdHUzJmuR3j"
      }
    },
    {
      "cell_type": "code",
      "source": [],
      "metadata": {
        "id": "tDfDkgXyvyZE"
      },
      "execution_count": null,
      "outputs": []
    },
    {
      "cell_type": "markdown",
      "source": [
        "## Tokenizing"
      ],
      "metadata": {
        "id": "tWOiPCQBueWc"
      }
    },
    {
      "cell_type": "markdown",
      "source": [
        "By tokenizing, you can conveniently split up text by **word** or by **sentence**."
      ],
      "metadata": {
        "id": "uRngtJXHuioq"
      }
    },
    {
      "cell_type": "markdown",
      "source": [
        "**Tokenizing by word:**  Tokenizing your text by word allows you to identify words that come up particularly often. For example, if you were analyzing a group of job ads, then you might find that the word “Python” comes up often. That could suggest high demand for Python knowledge, but you’d need to look deeper to know more."
      ],
      "metadata": {
        "id": "v7mPO4AVu283"
      }
    },
    {
      "cell_type": "code",
      "source": [
        "SRUniversity=\"\"\"The SR University campus is located in Ananthasagar village of Hasanparthy Mandal in Warangal, Telangana, India. \n",
        "It is in 150 acres, with both separate hostel facilities for boys and girls. \n",
        "There is a huge central library along with Indias largest Technology Business Incubator (TBI) in tier 2 cities.\"\"\""
      ],
      "metadata": {
        "id": "zon_GD8MuCxO"
      },
      "execution_count": 2,
      "outputs": []
    },
    {
      "cell_type": "code",
      "source": [
        "SRUniversity"
      ],
      "metadata": {
        "colab": {
          "base_uri": "https://localhost:8080/",
          "height": 54
        },
        "id": "P_FjmTuPvUxc",
        "outputId": "7e163416-ae01-4cae-95fa-6f252798dbc3"
      },
      "execution_count": 3,
      "outputs": [
        {
          "output_type": "execute_result",
          "data": {
            "text/plain": [
              "'The SR University campus is located in Ananthasagar village of Hasanparthy Mandal in Warangal, Telangana, India. \\nIt is in 150 acres, with both separate hostel facilities for boys and girls. \\nThere is a huge central library along with Indias largest Technology Business Incubator (TBI) in tier 2 cities.'"
            ],
            "application/vnd.google.colaboratory.intrinsic+json": {
              "type": "string"
            }
          },
          "metadata": {},
          "execution_count": 3
        }
      ]
    },
    {
      "cell_type": "code",
      "source": [
        "import nltk\n",
        "nltk.download('punkt')\n",
        "from nltk.tokenize import word_tokenize\n",
        "word_tokenize(SRUniversity)"
      ],
      "metadata": {
        "colab": {
          "base_uri": "https://localhost:8080/"
        },
        "id": "y-WUWlSvvfle",
        "outputId": "b15955b8-f046-4be3-b155-97e2ea55cfc5"
      },
      "execution_count": 5,
      "outputs": [
        {
          "output_type": "stream",
          "name": "stderr",
          "text": [
            "[nltk_data] Downloading package punkt to /root/nltk_data...\n",
            "[nltk_data]   Unzipping tokenizers/punkt.zip.\n"
          ]
        },
        {
          "output_type": "execute_result",
          "data": {
            "text/plain": [
              "['The',\n",
              " 'SR',\n",
              " 'University',\n",
              " 'campus',\n",
              " 'is',\n",
              " 'located',\n",
              " 'in',\n",
              " 'Ananthasagar',\n",
              " 'village',\n",
              " 'of',\n",
              " 'Hasanparthy',\n",
              " 'Mandal',\n",
              " 'in',\n",
              " 'Warangal',\n",
              " ',',\n",
              " 'Telangana',\n",
              " ',',\n",
              " 'India',\n",
              " '.',\n",
              " 'It',\n",
              " 'is',\n",
              " 'in',\n",
              " '150',\n",
              " 'acres',\n",
              " ',',\n",
              " 'with',\n",
              " 'both',\n",
              " 'separate',\n",
              " 'hostel',\n",
              " 'facilities',\n",
              " 'for',\n",
              " 'boys',\n",
              " 'and',\n",
              " 'girls',\n",
              " '.',\n",
              " 'There',\n",
              " 'is',\n",
              " 'a',\n",
              " 'huge',\n",
              " 'central',\n",
              " 'library',\n",
              " 'along',\n",
              " 'with',\n",
              " 'Indias',\n",
              " 'largest',\n",
              " 'Technology',\n",
              " 'Business',\n",
              " 'Incubator',\n",
              " '(',\n",
              " 'TBI',\n",
              " ')',\n",
              " 'in',\n",
              " 'tier',\n",
              " '2',\n",
              " 'cities',\n",
              " '.']"
            ]
          },
          "metadata": {},
          "execution_count": 5
        }
      ]
    },
    {
      "cell_type": "markdown",
      "source": [
        "**Tokenizing by sentence:** When you tokenize by sentence, you can analyze how those words relate to one another and see more context. Are there a lot of negative words around the word “Python” because the hiring manager doesn’t like Python? "
      ],
      "metadata": {
        "id": "4CSee1OVwTBK"
      }
    },
    {
      "cell_type": "code",
      "source": [
        "from nltk.tokenize import sent_tokenize\n",
        "sent_tokenize(SRUniversity)"
      ],
      "metadata": {
        "colab": {
          "base_uri": "https://localhost:8080/"
        },
        "id": "yfvBEOH6wD14",
        "outputId": "b3724bd8-1f2c-4cfe-b121-7627c4b4fe75"
      },
      "execution_count": 6,
      "outputs": [
        {
          "output_type": "execute_result",
          "data": {
            "text/plain": [
              "['The SR University campus is located in Ananthasagar village of Hasanparthy Mandal in Warangal, Telangana, India.',\n",
              " 'It is in 150 acres, with both separate hostel facilities for boys and girls.',\n",
              " 'There is a huge central library along with Indias largest Technology Business Incubator (TBI) in tier 2 cities.']"
            ]
          },
          "metadata": {},
          "execution_count": 6
        }
      ]
    },
    {
      "cell_type": "markdown",
      "source": [
        "# Filtering Stop Words"
      ],
      "metadata": {
        "id": "Ci4ubC3-xHag"
      }
    },
    {
      "cell_type": "markdown",
      "source": [
        "Stop words are words that you want to ignore, so you filter them out of your text when you’re processing it. Very common words like 'in', 'is', and 'an' are often used as stop words since they don’t add a lot of meaning to a text in and of themselves"
      ],
      "metadata": {
        "id": "jYD5U4ytxQSG"
      }
    },
    {
      "cell_type": "code",
      "source": [
        "nltk.download(\"stopwords\")\n",
        "from nltk.corpus import stopwords\n",
        "from nltk.tokenize import word_tokenize"
      ],
      "metadata": {
        "colab": {
          "base_uri": "https://localhost:8080/"
        },
        "id": "mhsfeV2JxJ9_",
        "outputId": "840babfa-6571-426b-dc4c-bd7f3ba1dc50"
      },
      "execution_count": 7,
      "outputs": [
        {
          "output_type": "stream",
          "name": "stderr",
          "text": [
            "[nltk_data] Downloading package stopwords to /root/nltk_data...\n",
            "[nltk_data]   Unzipping corpora/stopwords.zip.\n"
          ]
        }
      ]
    },
    {
      "cell_type": "code",
      "source": [
        "words_in_quote = word_tokenize(SRUniversity)\n",
        "words_in_quote"
      ],
      "metadata": {
        "colab": {
          "base_uri": "https://localhost:8080/"
        },
        "id": "sy1vYZusvqvd",
        "outputId": "6446d663-c72a-4a9e-c432-4a6bb4f1dd36"
      },
      "execution_count": 8,
      "outputs": [
        {
          "output_type": "execute_result",
          "data": {
            "text/plain": [
              "['The',\n",
              " 'SR',\n",
              " 'University',\n",
              " 'campus',\n",
              " 'is',\n",
              " 'located',\n",
              " 'in',\n",
              " 'Ananthasagar',\n",
              " 'village',\n",
              " 'of',\n",
              " 'Hasanparthy',\n",
              " 'Mandal',\n",
              " 'in',\n",
              " 'Warangal',\n",
              " ',',\n",
              " 'Telangana',\n",
              " ',',\n",
              " 'India',\n",
              " '.',\n",
              " 'It',\n",
              " 'is',\n",
              " 'in',\n",
              " '150',\n",
              " 'acres',\n",
              " ',',\n",
              " 'with',\n",
              " 'both',\n",
              " 'separate',\n",
              " 'hostel',\n",
              " 'facilities',\n",
              " 'for',\n",
              " 'boys',\n",
              " 'and',\n",
              " 'girls',\n",
              " '.',\n",
              " 'There',\n",
              " 'is',\n",
              " 'a',\n",
              " 'huge',\n",
              " 'central',\n",
              " 'library',\n",
              " 'along',\n",
              " 'with',\n",
              " 'Indias',\n",
              " 'largest',\n",
              " 'Technology',\n",
              " 'Business',\n",
              " 'Incubator',\n",
              " '(',\n",
              " 'TBI',\n",
              " ')',\n",
              " 'in',\n",
              " 'tier',\n",
              " '2',\n",
              " 'cities',\n",
              " '.']"
            ]
          },
          "metadata": {},
          "execution_count": 8
        }
      ]
    },
    {
      "cell_type": "code",
      "source": [
        "stop_words = set(stopwords.words(\"english\"))\n",
        "filtered_list = []\n",
        "for word in words_in_quote:\n",
        "  if word.casefold() not in stop_words:\n",
        "    filtered_list.append(word)\n",
        "filtered_list"
      ],
      "metadata": {
        "colab": {
          "base_uri": "https://localhost:8080/"
        },
        "id": "QAv-mCXryfu3",
        "outputId": "f1dfb593-8e20-4ecb-fa5b-658a7ee6026c"
      },
      "execution_count": 9,
      "outputs": [
        {
          "output_type": "execute_result",
          "data": {
            "text/plain": [
              "['SR',\n",
              " 'University',\n",
              " 'campus',\n",
              " 'located',\n",
              " 'Ananthasagar',\n",
              " 'village',\n",
              " 'Hasanparthy',\n",
              " 'Mandal',\n",
              " 'Warangal',\n",
              " ',',\n",
              " 'Telangana',\n",
              " ',',\n",
              " 'India',\n",
              " '.',\n",
              " '150',\n",
              " 'acres',\n",
              " ',',\n",
              " 'separate',\n",
              " 'hostel',\n",
              " 'facilities',\n",
              " 'boys',\n",
              " 'girls',\n",
              " '.',\n",
              " 'huge',\n",
              " 'central',\n",
              " 'library',\n",
              " 'along',\n",
              " 'Indias',\n",
              " 'largest',\n",
              " 'Technology',\n",
              " 'Business',\n",
              " 'Incubator',\n",
              " '(',\n",
              " 'TBI',\n",
              " ')',\n",
              " 'tier',\n",
              " '2',\n",
              " 'cities',\n",
              " '.']"
            ]
          },
          "metadata": {},
          "execution_count": 9
        }
      ]
    },
    {
      "cell_type": "markdown",
      "source": [
        "## Stemming"
      ],
      "metadata": {
        "id": "a7sxXYyqz5ZN"
      }
    },
    {
      "cell_type": "markdown",
      "source": [
        "**Stemming** is a text processing task in which you reduce words to their root, which is the core part of a word. For example, the words “helping” and “helper” share the root “help.”"
      ],
      "metadata": {
        "id": "etJ-Svho0_JK"
      }
    },
    {
      "cell_type": "code",
      "source": [
        "from nltk.stem import PorterStemmer\n",
        "from nltk.tokenize import word_tokenize\n",
        "stemmer = PorterStemmer()\n",
        "words = word_tokenize(SRUniversity)\n",
        "stemmed_words = [stemmer.stem(word) for word in words]\n",
        "stemmed_words"
      ],
      "metadata": {
        "colab": {
          "base_uri": "https://localhost:8080/"
        },
        "id": "rJwChi92ytle",
        "outputId": "b3b6dfed-1338-4a29-f9af-726a191aacc0"
      },
      "execution_count": 11,
      "outputs": [
        {
          "output_type": "execute_result",
          "data": {
            "text/plain": [
              "['the',\n",
              " 'sr',\n",
              " 'univers',\n",
              " 'campu',\n",
              " 'is',\n",
              " 'locat',\n",
              " 'in',\n",
              " 'ananthasagar',\n",
              " 'villag',\n",
              " 'of',\n",
              " 'hasanparthi',\n",
              " 'mandal',\n",
              " 'in',\n",
              " 'warang',\n",
              " ',',\n",
              " 'telangana',\n",
              " ',',\n",
              " 'india',\n",
              " '.',\n",
              " 'it',\n",
              " 'is',\n",
              " 'in',\n",
              " '150',\n",
              " 'acr',\n",
              " ',',\n",
              " 'with',\n",
              " 'both',\n",
              " 'separ',\n",
              " 'hostel',\n",
              " 'facil',\n",
              " 'for',\n",
              " 'boy',\n",
              " 'and',\n",
              " 'girl',\n",
              " '.',\n",
              " 'there',\n",
              " 'is',\n",
              " 'a',\n",
              " 'huge',\n",
              " 'central',\n",
              " 'librari',\n",
              " 'along',\n",
              " 'with',\n",
              " 'india',\n",
              " 'largest',\n",
              " 'technolog',\n",
              " 'busi',\n",
              " 'incub',\n",
              " '(',\n",
              " 'tbi',\n",
              " ')',\n",
              " 'in',\n",
              " 'tier',\n",
              " '2',\n",
              " 'citi',\n",
              " '.']"
            ]
          },
          "metadata": {},
          "execution_count": 11
        }
      ]
    },
    {
      "cell_type": "markdown",
      "source": [
        "**Understemming** and overstemming are two ways stemming can go wrong:\n",
        "\n",
        "**Understemming** happens when two related words should be reduced to the same stem but aren’t. This is a false negative.\n",
        "**Overstemming** happens when two unrelated words are reduced to the same stem even though they shouldn’t be. This is a false positive."
      ],
      "metadata": {
        "id": "5J-OYL9T15-H"
      }
    },
    {
      "cell_type": "markdown",
      "source": [
        "The Porter stemming algorithm dates from 1979, so it’s a little on the older side. The **Snowball stemmer**, which is also called Porter2, is an improvement on the original and is also available through NLTK"
      ],
      "metadata": {
        "id": "Fm60j1Ev2MhM"
      }
    },
    {
      "cell_type": "code",
      "source": [
        "from nltk.stem import SnowballStemmer\n",
        "snowball = SnowballStemmer(language='english')\n",
        "words = word_tokenize(SRUniversity)\n",
        "for word in words:\n",
        "    print(word,\"--->\",snowball.stem(word))"
      ],
      "metadata": {
        "colab": {
          "base_uri": "https://localhost:8080/"
        },
        "id": "Y0UFrtw51k9H",
        "outputId": "fa73f0c4-22ac-4bcf-f5e7-70ecfa4097ba"
      },
      "execution_count": 12,
      "outputs": [
        {
          "output_type": "stream",
          "name": "stdout",
          "text": [
            "The ---> the\n",
            "SR ---> sr\n",
            "University ---> univers\n",
            "campus ---> campus\n",
            "is ---> is\n",
            "located ---> locat\n",
            "in ---> in\n",
            "Ananthasagar ---> ananthasagar\n",
            "village ---> villag\n",
            "of ---> of\n",
            "Hasanparthy ---> hasanparthi\n",
            "Mandal ---> mandal\n",
            "in ---> in\n",
            "Warangal ---> warang\n",
            ", ---> ,\n",
            "Telangana ---> telangana\n",
            ", ---> ,\n",
            "India ---> india\n",
            ". ---> .\n",
            "It ---> it\n",
            "is ---> is\n",
            "in ---> in\n",
            "150 ---> 150\n",
            "acres ---> acr\n",
            ", ---> ,\n",
            "with ---> with\n",
            "both ---> both\n",
            "separate ---> separ\n",
            "hostel ---> hostel\n",
            "facilities ---> facil\n",
            "for ---> for\n",
            "boys ---> boy\n",
            "and ---> and\n",
            "girls ---> girl\n",
            ". ---> .\n",
            "There ---> there\n",
            "is ---> is\n",
            "a ---> a\n",
            "huge ---> huge\n",
            "central ---> central\n",
            "library ---> librari\n",
            "along ---> along\n",
            "with ---> with\n",
            "Indias ---> india\n",
            "largest ---> largest\n",
            "Technology ---> technolog\n",
            "Business ---> busi\n",
            "Incubator ---> incub\n",
            "( ---> (\n",
            "TBI ---> tbi\n",
            ") ---> )\n",
            "in ---> in\n",
            "tier ---> tier\n",
            "2 ---> 2\n",
            "cities ---> citi\n",
            ". ---> .\n"
          ]
        }
      ]
    },
    {
      "cell_type": "code",
      "source": [
        "from nltk import LancasterStemmer\n",
        "Lanc = LancasterStemmer()\n",
        "words = word_tokenize(SRUniversity)\n",
        "for word in words:\n",
        "    print(word,\"--->\",Lanc.stem(word))"
      ],
      "metadata": {
        "colab": {
          "base_uri": "https://localhost:8080/"
        },
        "id": "ADOjywuP3F8o",
        "outputId": "274905e9-7c8d-4f5e-b36d-36f0c883889d"
      },
      "execution_count": 13,
      "outputs": [
        {
          "output_type": "stream",
          "name": "stdout",
          "text": [
            "The ---> the\n",
            "SR ---> sr\n",
            "University ---> univers\n",
            "campus ---> camp\n",
            "is ---> is\n",
            "located ---> loc\n",
            "in ---> in\n",
            "Ananthasagar ---> ananthasag\n",
            "village ---> vil\n",
            "of ---> of\n",
            "Hasanparthy ---> hasanparthy\n",
            "Mandal ---> mand\n",
            "in ---> in\n",
            "Warangal ---> warang\n",
            ", ---> ,\n",
            "Telangana ---> telangan\n",
            ", ---> ,\n",
            "India ---> ind\n",
            ". ---> .\n",
            "It ---> it\n",
            "is ---> is\n",
            "in ---> in\n",
            "150 ---> 150\n",
            "acres ---> acr\n",
            ", ---> ,\n",
            "with ---> with\n",
            "both ---> both\n",
            "separate ---> sep\n",
            "hostel ---> hostel\n",
            "facilities ---> facil\n",
            "for ---> for\n",
            "boys ---> boy\n",
            "and ---> and\n",
            "girls ---> girl\n",
            ". ---> .\n",
            "There ---> ther\n",
            "is ---> is\n",
            "a ---> a\n",
            "huge ---> hug\n",
            "central ---> cent\n",
            "library ---> libr\n",
            "along ---> along\n",
            "with ---> with\n",
            "Indias ---> india\n",
            "largest ---> largest\n",
            "Technology ---> technolog\n",
            "Business ---> busy\n",
            "Incubator ---> incub\n",
            "( ---> (\n",
            "TBI ---> tbi\n",
            ") ---> )\n",
            "in ---> in\n",
            "tier ---> tier\n",
            "2 ---> 2\n",
            "cities ---> city\n",
            ". ---> .\n"
          ]
        }
      ]
    },
    {
      "cell_type": "code",
      "source": [
        "from nltk.stem import RegexpStemmer\n",
        "regexp = RegexpStemmer('ing$|s$|e$|able$', min=4)\n",
        "words = word_tokenize(SRUniversity)\n",
        "for word in words:\n",
        "    print(word,\"--->\",Lanc.stem(word))"
      ],
      "metadata": {
        "colab": {
          "base_uri": "https://localhost:8080/"
        },
        "id": "mrbjdcBc3a_W",
        "outputId": "ae810f62-ba4d-4342-e9cf-0b082b59553b"
      },
      "execution_count": 17,
      "outputs": [
        {
          "output_type": "stream",
          "name": "stdout",
          "text": [
            "The ---> the\n",
            "SR ---> sr\n",
            "University ---> univers\n",
            "campus ---> camp\n",
            "is ---> is\n",
            "located ---> loc\n",
            "in ---> in\n",
            "Ananthasagar ---> ananthasag\n",
            "village ---> vil\n",
            "of ---> of\n",
            "Hasanparthy ---> hasanparthy\n",
            "Mandal ---> mand\n",
            "in ---> in\n",
            "Warangal ---> warang\n",
            ", ---> ,\n",
            "Telangana ---> telangan\n",
            ", ---> ,\n",
            "India ---> ind\n",
            ". ---> .\n",
            "It ---> it\n",
            "is ---> is\n",
            "in ---> in\n",
            "150 ---> 150\n",
            "acres ---> acr\n",
            ", ---> ,\n",
            "with ---> with\n",
            "both ---> both\n",
            "separate ---> sep\n",
            "hostel ---> hostel\n",
            "facilities ---> facil\n",
            "for ---> for\n",
            "boys ---> boy\n",
            "and ---> and\n",
            "girls ---> girl\n",
            ". ---> .\n",
            "There ---> ther\n",
            "is ---> is\n",
            "a ---> a\n",
            "huge ---> hug\n",
            "central ---> cent\n",
            "library ---> libr\n",
            "along ---> along\n",
            "with ---> with\n",
            "Indias ---> india\n",
            "largest ---> largest\n",
            "Technology ---> technolog\n",
            "Business ---> busy\n",
            "Incubator ---> incub\n",
            "( ---> (\n",
            "TBI ---> tbi\n",
            ") ---> )\n",
            "in ---> in\n",
            "tier ---> tier\n",
            "2 ---> 2\n",
            "cities ---> city\n",
            ". ---> .\n"
          ]
        }
      ]
    },
    {
      "cell_type": "markdown",
      "source": [
        "# Lemmatization"
      ],
      "metadata": {
        "id": "xAESmbCS6F8U"
      }
    },
    {
      "cell_type": "markdown",
      "source": [
        "**Lemmatization** technique is like stemming. The output we will get after lemmatization is called ‘lemma’, which is a **root word** rather than root stem, the output of stemming. After lemmatization, we will be getting a valid word that means the same thing. NLTK provides WordNetLemmatizer class which is a thin wrapper around the **wordnet **corpus"
      ],
      "metadata": {
        "id": "igYj14k-6H72"
      }
    },
    {
      "cell_type": "code",
      "source": [
        "nltk.download('omw-1.4')\n",
        "from nltk.stem import WordNetLemmatizer\n",
        "lemmatizer = WordNetLemmatizer()\n",
        "words = word_tokenize(SRUniversity)\n",
        "for word in words:\n",
        "    print(word,\"--->\",lemmatizer.lemmatize(word))"
      ],
      "metadata": {
        "colab": {
          "base_uri": "https://localhost:8080/"
        },
        "id": "-cSWI_6W476n",
        "outputId": "c7f1868a-5ca4-4732-b6c8-c573d8e6943d"
      },
      "execution_count": 22,
      "outputs": [
        {
          "output_type": "stream",
          "name": "stderr",
          "text": [
            "[nltk_data] Downloading package omw-1.4 to /root/nltk_data...\n"
          ]
        },
        {
          "output_type": "stream",
          "name": "stdout",
          "text": [
            "The ---> The\n",
            "SR ---> SR\n",
            "University ---> University\n",
            "campus ---> campus\n",
            "is ---> is\n",
            "located ---> located\n",
            "in ---> in\n",
            "Ananthasagar ---> Ananthasagar\n",
            "village ---> village\n",
            "of ---> of\n",
            "Hasanparthy ---> Hasanparthy\n",
            "Mandal ---> Mandal\n",
            "in ---> in\n",
            "Warangal ---> Warangal\n",
            ", ---> ,\n",
            "Telangana ---> Telangana\n",
            ", ---> ,\n",
            "India ---> India\n",
            ". ---> .\n",
            "It ---> It\n",
            "is ---> is\n",
            "in ---> in\n",
            "150 ---> 150\n",
            "acres ---> acre\n",
            ", ---> ,\n",
            "with ---> with\n",
            "both ---> both\n",
            "separate ---> separate\n",
            "hostel ---> hostel\n",
            "facilities ---> facility\n",
            "for ---> for\n",
            "boys ---> boy\n",
            "and ---> and\n",
            "girls ---> girl\n",
            ". ---> .\n",
            "There ---> There\n",
            "is ---> is\n",
            "a ---> a\n",
            "huge ---> huge\n",
            "central ---> central\n",
            "library ---> library\n",
            "along ---> along\n",
            "with ---> with\n",
            "Indias ---> Indias\n",
            "largest ---> largest\n",
            "Technology ---> Technology\n",
            "Business ---> Business\n",
            "Incubator ---> Incubator\n",
            "( ---> (\n",
            "TBI ---> TBI\n",
            ") ---> )\n",
            "in ---> in\n",
            "tier ---> tier\n",
            "2 ---> 2\n",
            "cities ---> city\n",
            ". ---> .\n"
          ]
        }
      ]
    },
    {
      "cell_type": "code",
      "source": [
        "lemmatizer.lemmatize(\"worst\")"
      ],
      "metadata": {
        "colab": {
          "base_uri": "https://localhost:8080/",
          "height": 36
        },
        "id": "U3SWQZot-3UY",
        "outputId": "1797fb70-0141-4754-9ad5-53a8b23b9d58"
      },
      "execution_count": 28,
      "outputs": [
        {
          "output_type": "execute_result",
          "data": {
            "text/plain": [
              "'worst'"
            ],
            "application/vnd.google.colaboratory.intrinsic+json": {
              "type": "string"
            }
          },
          "metadata": {},
          "execution_count": 28
        }
      ]
    },
    {
      "cell_type": "code",
      "source": [
        "lemmatizer.lemmatize(\"worst\", pos=\"a\")"
      ],
      "metadata": {
        "colab": {
          "base_uri": "https://localhost:8080/",
          "height": 36
        },
        "id": "F0U8kZwy-5QX",
        "outputId": "b8967a37-0d80-4c8d-9151-daea132d94d6"
      },
      "execution_count": 29,
      "outputs": [
        {
          "output_type": "execute_result",
          "data": {
            "text/plain": [
              "'bad'"
            ],
            "application/vnd.google.colaboratory.intrinsic+json": {
              "type": "string"
            }
          },
          "metadata": {},
          "execution_count": 29
        }
      ]
    },
    {
      "cell_type": "markdown",
      "source": [
        "# Comparison"
      ],
      "metadata": {
        "id": "xGfebBOG7aVF"
      }
    },
    {
      "cell_type": "code",
      "source": [
        "from nltk.stem import PorterStemmer, SnowballStemmer, LancasterStemmer, RegexpStemmer, WordNetLemmatizer\n",
        "porter = PorterStemmer()\n",
        "lancaster = LancasterStemmer()\n",
        "snowball = SnowballStemmer(language='english')\n",
        "regexp = RegexpStemmer('ing$|s$|e$|able$', min=4)\n",
        "lemmatizer = WordNetLemmatizer()\n",
        "\n",
        "word_list = [\"friend\", \"friendship\", \"friends\", \"friendships\"]\n",
        "print(\"{0:20}{1:20}{2:20}{3:30}{4:40}{5:50}\".format(\"Word\",\"Porter Stemmer\",\"Snowball Stemmer\",\"Lancaster Stemmer\",'Regexp Stemmer','WordNetLemmatizer'))\n",
        "for word in word_list:\n",
        "    print(\"{0:20}{1:20}{2:20}{3:30}{4:40}{5:50}\".format(word,porter.stem(word),snowball.stem(word),lancaster.stem(word),regexp.stem(word),lemmatizer.lemmatize(word)))"
      ],
      "metadata": {
        "colab": {
          "base_uri": "https://localhost:8080/"
        },
        "id": "897amBAr6rvw",
        "outputId": "a17b488e-521e-4333-c751-2735bacea80c"
      },
      "execution_count": 23,
      "outputs": [
        {
          "output_type": "stream",
          "name": "stdout",
          "text": [
            "Word                Porter Stemmer      Snowball Stemmer    Lancaster Stemmer             Regexp Stemmer                          WordNetLemmatizer                                 \n",
            "friend              friend              friend              friend                        friend                                  friend                                            \n",
            "friendship          friendship          friendship          friend                        friendship                              friendship                                        \n",
            "friends             friend              friend              friend                        friend                                  friend                                            \n",
            "friendships         friendship          friendship          friend                        friendship                              friendship                                        \n"
          ]
        }
      ]
    },
    {
      "cell_type": "markdown",
      "source": [
        "# Tagging Parts of Speech"
      ],
      "metadata": {
        "id": "iM955vFj9KCi"
      }
    },
    {
      "cell_type": "markdown",
      "source": [
        "Part of speech is a grammatical term that deals with the roles words play when you use them together in sentences. Tagging parts of speech, or POS tagging, is the task of labeling the words in your text according to their part of speech."
      ],
      "metadata": {
        "id": "aOKZYGlJ9L4m"
      }
    },
    {
      "cell_type": "markdown",
      "source": [
        "JJ\tAdjectives\\\n",
        "NN\tNouns\\\n",
        "RB\tAdverbs\\\n",
        "PRP\tPronouns\\\n",
        "VB\tVerbs"
      ],
      "metadata": {
        "id": "4Npd6KML9kJH"
      }
    },
    {
      "cell_type": "code",
      "source": [
        "nltk.download('averaged_perceptron_tagger')\n",
        "from nltk.tokenize import word_tokenize\n",
        "words = word_tokenize(SRUniversity)\n",
        "nltk.pos_tag(words)"
      ],
      "metadata": {
        "colab": {
          "base_uri": "https://localhost:8080/"
        },
        "id": "OIcdpfET74Qx",
        "outputId": "a2194635-b903-4810-e741-5415b3f9b311"
      },
      "execution_count": 25,
      "outputs": [
        {
          "output_type": "stream",
          "name": "stderr",
          "text": [
            "[nltk_data] Downloading package averaged_perceptron_tagger to\n",
            "[nltk_data]     /root/nltk_data...\n",
            "[nltk_data]   Unzipping taggers/averaged_perceptron_tagger.zip.\n"
          ]
        },
        {
          "output_type": "execute_result",
          "data": {
            "text/plain": [
              "[('The', 'DT'),\n",
              " ('SR', 'NNP'),\n",
              " ('University', 'NNP'),\n",
              " ('campus', 'NN'),\n",
              " ('is', 'VBZ'),\n",
              " ('located', 'VBN'),\n",
              " ('in', 'IN'),\n",
              " ('Ananthasagar', 'NNP'),\n",
              " ('village', 'NN'),\n",
              " ('of', 'IN'),\n",
              " ('Hasanparthy', 'NNP'),\n",
              " ('Mandal', 'NNP'),\n",
              " ('in', 'IN'),\n",
              " ('Warangal', 'NNP'),\n",
              " (',', ','),\n",
              " ('Telangana', 'NNP'),\n",
              " (',', ','),\n",
              " ('India', 'NNP'),\n",
              " ('.', '.'),\n",
              " ('It', 'PRP'),\n",
              " ('is', 'VBZ'),\n",
              " ('in', 'IN'),\n",
              " ('150', 'CD'),\n",
              " ('acres', 'NNS'),\n",
              " (',', ','),\n",
              " ('with', 'IN'),\n",
              " ('both', 'DT'),\n",
              " ('separate', 'JJ'),\n",
              " ('hostel', 'NN'),\n",
              " ('facilities', 'NNS'),\n",
              " ('for', 'IN'),\n",
              " ('boys', 'NNS'),\n",
              " ('and', 'CC'),\n",
              " ('girls', 'NNS'),\n",
              " ('.', '.'),\n",
              " ('There', 'EX'),\n",
              " ('is', 'VBZ'),\n",
              " ('a', 'DT'),\n",
              " ('huge', 'JJ'),\n",
              " ('central', 'JJ'),\n",
              " ('library', 'NN'),\n",
              " ('along', 'IN'),\n",
              " ('with', 'IN'),\n",
              " ('Indias', 'NNP'),\n",
              " ('largest', 'JJS'),\n",
              " ('Technology', 'NN'),\n",
              " ('Business', 'NNP'),\n",
              " ('Incubator', 'NNP'),\n",
              " ('(', '('),\n",
              " ('TBI', 'NNP'),\n",
              " (')', ')'),\n",
              " ('in', 'IN'),\n",
              " ('tier', '$'),\n",
              " ('2', 'CD'),\n",
              " ('cities', 'NNS'),\n",
              " ('.', '.')]"
            ]
          },
          "metadata": {},
          "execution_count": 25
        }
      ]
    },
    {
      "cell_type": "code",
      "source": [
        " nltk.download('tagsets')\n",
        " nltk.help.upenn_tagset()"
      ],
      "metadata": {
        "colab": {
          "base_uri": "https://localhost:8080/"
        },
        "id": "YFzZkS5b919Z",
        "outputId": "9fc5c71f-9adf-4c1c-f422-3448d091b522"
      },
      "execution_count": 27,
      "outputs": [
        {
          "output_type": "stream",
          "name": "stdout",
          "text": [
            "$: dollar\n",
            "    $ -$ --$ A$ C$ HK$ M$ NZ$ S$ U.S.$ US$\n",
            "'': closing quotation mark\n",
            "    ' ''\n",
            "(: opening parenthesis\n",
            "    ( [ {\n",
            "): closing parenthesis\n",
            "    ) ] }\n",
            ",: comma\n",
            "    ,\n",
            "--: dash\n",
            "    --\n",
            ".: sentence terminator\n",
            "    . ! ?\n",
            ":: colon or ellipsis\n",
            "    : ; ...\n",
            "CC: conjunction, coordinating\n",
            "    & 'n and both but either et for less minus neither nor or plus so\n",
            "    therefore times v. versus vs. whether yet\n",
            "CD: numeral, cardinal\n",
            "    mid-1890 nine-thirty forty-two one-tenth ten million 0.5 one forty-\n",
            "    seven 1987 twenty '79 zero two 78-degrees eighty-four IX '60s .025\n",
            "    fifteen 271,124 dozen quintillion DM2,000 ...\n",
            "DT: determiner\n",
            "    all an another any both del each either every half la many much nary\n",
            "    neither no some such that the them these this those\n",
            "EX: existential there\n",
            "    there\n",
            "FW: foreign word\n",
            "    gemeinschaft hund ich jeux habeas Haementeria Herr K'ang-si vous\n",
            "    lutihaw alai je jour objets salutaris fille quibusdam pas trop Monte\n",
            "    terram fiche oui corporis ...\n",
            "IN: preposition or conjunction, subordinating\n",
            "    astride among uppon whether out inside pro despite on by throughout\n",
            "    below within for towards near behind atop around if like until below\n",
            "    next into if beside ...\n",
            "JJ: adjective or numeral, ordinal\n",
            "    third ill-mannered pre-war regrettable oiled calamitous first separable\n",
            "    ectoplasmic battery-powered participatory fourth still-to-be-named\n",
            "    multilingual multi-disciplinary ...\n",
            "JJR: adjective, comparative\n",
            "    bleaker braver breezier briefer brighter brisker broader bumper busier\n",
            "    calmer cheaper choosier cleaner clearer closer colder commoner costlier\n",
            "    cozier creamier crunchier cuter ...\n",
            "JJS: adjective, superlative\n",
            "    calmest cheapest choicest classiest cleanest clearest closest commonest\n",
            "    corniest costliest crassest creepiest crudest cutest darkest deadliest\n",
            "    dearest deepest densest dinkiest ...\n",
            "LS: list item marker\n",
            "    A A. B B. C C. D E F First G H I J K One SP-44001 SP-44002 SP-44005\n",
            "    SP-44007 Second Third Three Two * a b c d first five four one six three\n",
            "    two\n",
            "MD: modal auxiliary\n",
            "    can cannot could couldn't dare may might must need ought shall should\n",
            "    shouldn't will would\n",
            "NN: noun, common, singular or mass\n",
            "    common-carrier cabbage knuckle-duster Casino afghan shed thermostat\n",
            "    investment slide humour falloff slick wind hyena override subhumanity\n",
            "    machinist ...\n",
            "NNP: noun, proper, singular\n",
            "    Motown Venneboerger Czestochwa Ranzer Conchita Trumplane Christos\n",
            "    Oceanside Escobar Kreisler Sawyer Cougar Yvette Ervin ODI Darryl CTCA\n",
            "    Shannon A.K.C. Meltex Liverpool ...\n",
            "NNPS: noun, proper, plural\n",
            "    Americans Americas Amharas Amityvilles Amusements Anarcho-Syndicalists\n",
            "    Andalusians Andes Andruses Angels Animals Anthony Antilles Antiques\n",
            "    Apache Apaches Apocrypha ...\n",
            "NNS: noun, common, plural\n",
            "    undergraduates scotches bric-a-brac products bodyguards facets coasts\n",
            "    divestitures storehouses designs clubs fragrances averages\n",
            "    subjectivists apprehensions muses factory-jobs ...\n",
            "PDT: pre-determiner\n",
            "    all both half many quite such sure this\n",
            "POS: genitive marker\n",
            "    ' 's\n",
            "PRP: pronoun, personal\n",
            "    hers herself him himself hisself it itself me myself one oneself ours\n",
            "    ourselves ownself self she thee theirs them themselves they thou thy us\n",
            "PRP$: pronoun, possessive\n",
            "    her his mine my our ours their thy your\n",
            "RB: adverb\n",
            "    occasionally unabatingly maddeningly adventurously professedly\n",
            "    stirringly prominently technologically magisterially predominately\n",
            "    swiftly fiscally pitilessly ...\n",
            "RBR: adverb, comparative\n",
            "    further gloomier grander graver greater grimmer harder harsher\n",
            "    healthier heavier higher however larger later leaner lengthier less-\n",
            "    perfectly lesser lonelier longer louder lower more ...\n",
            "RBS: adverb, superlative\n",
            "    best biggest bluntest earliest farthest first furthest hardest\n",
            "    heartiest highest largest least less most nearest second tightest worst\n",
            "RP: particle\n",
            "    aboard about across along apart around aside at away back before behind\n",
            "    by crop down ever fast for forth from go high i.e. in into just later\n",
            "    low more off on open out over per pie raising start teeth that through\n",
            "    under unto up up-pp upon whole with you\n",
            "SYM: symbol\n",
            "    % & ' '' ''. ) ). * + ,. < = > @ A[fj] U.S U.S.S.R * ** ***\n",
            "TO: \"to\" as preposition or infinitive marker\n",
            "    to\n",
            "UH: interjection\n",
            "    Goodbye Goody Gosh Wow Jeepers Jee-sus Hubba Hey Kee-reist Oops amen\n",
            "    huh howdy uh dammit whammo shucks heck anyways whodunnit honey golly\n",
            "    man baby diddle hush sonuvabitch ...\n",
            "VB: verb, base form\n",
            "    ask assemble assess assign assume atone attention avoid bake balkanize\n",
            "    bank begin behold believe bend benefit bevel beware bless boil bomb\n",
            "    boost brace break bring broil brush build ...\n",
            "VBD: verb, past tense\n",
            "    dipped pleaded swiped regummed soaked tidied convened halted registered\n",
            "    cushioned exacted snubbed strode aimed adopted belied figgered\n",
            "    speculated wore appreciated contemplated ...\n",
            "VBG: verb, present participle or gerund\n",
            "    telegraphing stirring focusing angering judging stalling lactating\n",
            "    hankerin' alleging veering capping approaching traveling besieging\n",
            "    encrypting interrupting erasing wincing ...\n",
            "VBN: verb, past participle\n",
            "    multihulled dilapidated aerosolized chaired languished panelized used\n",
            "    experimented flourished imitated reunifed factored condensed sheared\n",
            "    unsettled primed dubbed desired ...\n",
            "VBP: verb, present tense, not 3rd person singular\n",
            "    predominate wrap resort sue twist spill cure lengthen brush terminate\n",
            "    appear tend stray glisten obtain comprise detest tease attract\n",
            "    emphasize mold postpone sever return wag ...\n",
            "VBZ: verb, present tense, 3rd person singular\n",
            "    bases reconstructs marks mixes displeases seals carps weaves snatches\n",
            "    slumps stretches authorizes smolders pictures emerges stockpiles\n",
            "    seduces fizzes uses bolsters slaps speaks pleads ...\n",
            "WDT: WH-determiner\n",
            "    that what whatever which whichever\n",
            "WP: WH-pronoun\n",
            "    that what whatever whatsoever which who whom whosoever\n",
            "WP$: WH-pronoun, possessive\n",
            "    whose\n",
            "WRB: Wh-adverb\n",
            "    how however whence whenever where whereby whereever wherein whereof why\n",
            "``: opening quotation mark\n",
            "    ` ``\n"
          ]
        },
        {
          "output_type": "stream",
          "name": "stderr",
          "text": [
            "[nltk_data] Downloading package tagsets to /root/nltk_data...\n",
            "[nltk_data]   Unzipping help/tagsets.zip.\n"
          ]
        }
      ]
    },
    {
      "cell_type": "markdown",
      "source": [
        "# Chunking"
      ],
      "metadata": {
        "id": "ctwpTyV8_dAd"
      }
    },
    {
      "cell_type": "markdown",
      "source": [
        "While tokenizing allows you to identify **words and sentences**, chunking allows you to identify phrases."
      ],
      "metadata": {
        "id": "yuPJVpQd_iD4"
      }
    },
    {
      "cell_type": "markdown",
      "source": [
        "![Q1.png](data:image/png;base64,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)"
      ],
      "metadata": {
        "id": "W1YBTGKzAHu0"
      }
    },
    {
      "cell_type": "markdown",
      "source": [
        "Chunking makes use of POS tags to group words and apply chunk tags to those groups."
      ],
      "metadata": {
        "id": "HChSXBpeAPXZ"
      }
    },
    {
      "cell_type": "markdown",
      "source": [
        "NP stands for noun phrase. You can learn more about noun phrase chunking in Chapter 7 of Natural Language Processing with Python—Analyzing Text with the Natural Language Toolkit.\n",
        "\n",
        "According to the rule you created, your chunks:\n",
        "\n",
        "Start with an optional (?) determiner ('DT')\n",
        "Can have any number (*) of adjectives (JJ)\n",
        "End with a noun (<NN>)"
      ],
      "metadata": {
        "id": "24paC7lZBTbN"
      }
    },
    {
      "cell_type": "code",
      "source": [
        "from nltk.tokenize import word_tokenize\n",
        "lotr_quote = \"It's a dangerous business, Frodo, going out your door.\"\n",
        "words_in_lotr_quote = word_tokenize(lotr_quote)\n",
        "lotr_pos_tags = nltk.pos_tag(words_in_lotr_quote)\n",
        "grammar = \"NP: {<DT>?<JJ>*<NN>}\"\n",
        "chunk_parser = nltk.RegexpParser(grammar)\n",
        "tree = chunk_parser.parse(lotr_pos_tags)\n",
        "print(tree)"
      ],
      "metadata": {
        "colab": {
          "base_uri": "https://localhost:8080/"
        },
        "id": "iFBBCwfA_mhG",
        "outputId": "1d22f214-42ae-495c-afef-372617f02975"
      },
      "execution_count": 35,
      "outputs": [
        {
          "output_type": "stream",
          "name": "stdout",
          "text": [
            "(S\n",
            "  It/PRP\n",
            "  's/VBZ\n",
            "  (NP a/DT dangerous/JJ business/NN)\n",
            "  ,/,\n",
            "  Frodo/NNP\n",
            "  ,/,\n",
            "  going/VBG\n",
            "  out/RP\n",
            "  your/PRP$\n",
            "  (NP door/NN)\n",
            "  ./.)\n"
          ]
        }
      ]
    },
    {
      "cell_type": "markdown",
      "source": [
        "# Chinking"
      ],
      "metadata": {
        "id": "0teLBJ98DVIE"
      }
    },
    {
      "cell_type": "markdown",
      "source": [
        "**Chinking** is used together with chunking, but while **chunking** is used to **include a pattern**, **chinking** is used to exclude a pattern."
      ],
      "metadata": {
        "id": "bdpDXcFSDWhN"
      }
    },
    {
      "cell_type": "code",
      "source": [
        "from nltk.tokenize import word_tokenize\n",
        "lotr_quote = \"It's a dangerous business, Frodo, going out your door.\"\n",
        "words_in_lotr_quote = word_tokenize(lotr_quote)\n",
        "lotr_pos_tags = nltk.pos_tag(words_in_lotr_quote)\n",
        "grammar = \"\"\" \n",
        "          chunk:{<.*>+}\n",
        "          }<JJ>{ \n",
        "          \"\"\"\n",
        "chunk_parser = nltk.RegexpParser(grammar)\n",
        "tree = chunk_parser.parse(lotr_pos_tags)\n",
        "print(tree)"
      ],
      "metadata": {
        "colab": {
          "base_uri": "https://localhost:8080/"
        },
        "id": "CyI-BbWm-MYg",
        "outputId": "df22e3f2-90e8-4711-e4cc-43698749248b"
      },
      "execution_count": 38,
      "outputs": [
        {
          "output_type": "stream",
          "name": "stdout",
          "text": [
            "(S\n",
            "  (chunk It/PRP 's/VBZ a/DT)\n",
            "  dangerous/JJ\n",
            "  (chunk\n",
            "    business/NN\n",
            "    ,/,\n",
            "    Frodo/NNP\n",
            "    ,/,\n",
            "    going/VBG\n",
            "    out/RP\n",
            "    your/PRP$\n",
            "    door/NN\n",
            "    ./.))\n"
          ]
        }
      ]
    },
    {
      "cell_type": "markdown",
      "source": [
        "# Using Named Entity Recognition (NER)"
      ],
      "metadata": {
        "id": "dfubs-srE9b2"
      }
    },
    {
      "cell_type": "markdown",
      "source": [
        "Named entities are noun phrases that refer to specific locations, people, organizations, and so on. With named entity recognition, you can find the named entities in your texts and also determine what kind of named entity they are."
      ],
      "metadata": {
        "id": "GIAgdnkME-wR"
      }
    },
    {
      "cell_type": "code",
      "source": [
        "def extract_ne(quote):\n",
        "  words = word_tokenize(quote)\n",
        "  tags = nltk.pos_tag(words)\n",
        "  tree = nltk.ne_chunk(tags, binary=True)\n",
        "  return set(\" \".join(i[0] for i in t) \n",
        "            for t in tree\n",
        "            if hasattr(t, \"label\") and t.label() == \"NE\"\n",
        "            )"
      ],
      "metadata": {
        "id": "ddbniDvOEgE5"
      },
      "execution_count": 55,
      "outputs": []
    },
    {
      "cell_type": "code",
      "source": [
        "nltk.download('maxent_ne_chunker')\n",
        "nltk.download('words')\n",
        "extract_ne(\"I am Venkatamana, from India, working as professor\")"
      ],
      "metadata": {
        "colab": {
          "base_uri": "https://localhost:8080/"
        },
        "id": "JkOUKDA3GlxK",
        "outputId": "32a7f764-4ebe-42db-dde4-265e97865121"
      },
      "execution_count": 58,
      "outputs": [
        {
          "output_type": "stream",
          "name": "stderr",
          "text": [
            "[nltk_data] Downloading package maxent_ne_chunker to\n",
            "[nltk_data]     /root/nltk_data...\n",
            "[nltk_data]   Package maxent_ne_chunker is already up-to-date!\n",
            "[nltk_data] Downloading package words to /root/nltk_data...\n",
            "[nltk_data]   Package words is already up-to-date!\n"
          ]
        },
        {
          "output_type": "execute_result",
          "data": {
            "text/plain": [
              "{'India', 'Venkatamana'}"
            ]
          },
          "metadata": {},
          "execution_count": 58
        }
      ]
    },
    {
      "cell_type": "markdown",
      "source": [
        "# **Thank YoU**"
      ],
      "metadata": {
        "id": "oXdawNSGIRf8"
      }
    }
  ]
}